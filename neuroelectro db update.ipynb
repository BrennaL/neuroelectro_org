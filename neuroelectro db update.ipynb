{
 "metadata": {
  "name": "neuroelectro db update"
 }, 
 "nbformat": 2, 
 "worksheets": [
  {
   "cells": [
    {
     "cell_type": "code", 
     "collapsed": true, 
     "input": [
      "%load_ext autoreload", 
      "%autoreload 2"
     ], 
     "language": "python", 
     "outputs": [], 
     "prompt_number": 1
    }, 
    {
     "cell_type": "code", 
     "collapsed": true, 
     "input": [
      "import neuroelectro.models as m", 
      "from dbrestore import *", 
      "import nltk"
     ], 
     "language": "python", 
     "outputs": [], 
     "prompt_number": 4
    }, 
    {
     "cell_type": "code", 
     "collapsed": false, 
     "input": [
      "dbrestore.clean_nedms_post_review()"
     ], 
     "language": "python", 
     "outputs": [
      {
       "ename": "NameError", 
       "evalue": "name 'dbrestore' is not defined", 
       "output_type": "pyerr", 
       "traceback": [
        "\u001b[0;31m---------------------------------------------------------------------------\u001b[0m\n\u001b[0;31mNameError\u001b[0m                                 Traceback (most recent call last)", 
        "\u001b[0;32m/home/stripathy/neuroelectro_org/<ipython-input-3-c1ebf72e2031>\u001b[0m in \u001b[0;36m<module>\u001b[0;34m()\u001b[0m\n\u001b[0;32m----> 1\u001b[0;31m \u001b[0mdbrestore\u001b[0m\u001b[0;34m.\u001b[0m\u001b[0mclean_nedms_post_review\u001b[0m\u001b[0;34m(\u001b[0m\u001b[0;34m)\u001b[0m\u001b[0;34m\u001b[0m\u001b[0m\n\u001b[0m", 
        "\u001b[0;31mNameError\u001b[0m: name 'dbrestore' is not defined"
       ]
      }
     ], 
     "prompt_number": 3
    }, 
    {
     "cell_type": "code", 
     "collapsed": false, 
     "input": [
      "clean_nedms_post_review()"
     ], 
     "language": "python", 
     "outputs": [
      {
       "output_type": "stream", 
       "stream": "stdout", 
       "text": [
        "%  Sag ratio (%) ", 
        "%"
       ]
      }, 
      {
       "output_type": "stream", 
       "stream": "stdout", 
       "text": [
        " \u2003Sag, %", 
        "%"
       ]
      }, 
      {
       "output_type": "stream", 
       "stream": "stdout", 
       "text": [
        " Sag, %", 
        "%"
       ]
      }, 
      {
       "output_type": "stream", 
       "stream": "stdout", 
       "text": [
        " Sag (%)", 
        "%"
       ]
      }, 
      {
       "output_type": "stream", 
       "stream": "stdout", 
       "text": [
        " Adaptation (%)", 
        "%"
       ]
      }, 
      {
       "output_type": "stream", 
       "stream": "stdout", 
       "text": [
        " Sag, membrane resistance decrease, %", 
        "% Early adaptation, %", 
        "% % freq. adaptation", 
        "%"
       ]
      }, 
      {
       "output_type": "stream", 
       "stream": "stdout", 
       "text": [
        " Early adaptation, %", 
        "% Sag, membrane resistance decrease, %", 
        "%"
       ]
      }, 
      {
       "output_type": "stream", 
       "stream": "stdout", 
       "text": [
        " Early adaptation, %", 
        "%"
       ]
      }, 
      {
       "output_type": "stream", 
       "stream": "stdout", 
       "text": [
        " Adaptation (%)", 
        "%"
       ]
      }, 
      {
       "output_type": "stream", 
       "stream": "stdout", 
       "text": [
        " % freq. adaptation", 
        "%"
       ]
      }, 
      {
       "output_type": "stream", 
       "stream": "stdout", 
       "text": [
        " Adaptation (%)", 
        "%"
       ]
      }, 
      {
       "output_type": "stream", 
       "stream": "stdout", 
       "text": [
        " Spike adaptation (%)", 
        "% Sag, membrane resistance decrease, %", 
        "%"
       ]
      }, 
      {
       "output_type": "stream", 
       "stream": "stdout", 
       "text": [
        " Sag, membrane resistance decrease, %", 
        "% Early adaptation, %", 
        "updating field summaries"
       ]
      }, 
      {
       "output_type": "stream", 
       "stream": "stdout", 
       "text": [
        "", 
        "[55, 64]"
       ]
      }, 
      {
       "output_type": "stream", 
       "stream": "stdout", 
       "text": [
        "", 
        "[234, 387]"
       ]
      }, 
      {
       "output_type": "stream", 
       "stream": "stdout", 
       "text": [
        "", 
        "[222, 349]"
       ]
      }, 
      {
       "output_type": "stream", 
       "stream": "stdout", 
       "text": [
        "", 
        "[87, 157]", 
        "[157, 234]"
       ]
      }, 
      {
       "output_type": "stream", 
       "stream": "stdout", 
       "text": [
        "", 
        "[124, 195]", 
        "[160, 239]"
       ]
      }, 
      {
       "output_type": "stream", 
       "stream": "stdout", 
       "text": [
        "", 
        "[54, 71]", 
        "[38, 63]"
       ]
      }, 
      {
       "output_type": "stream", 
       "stream": "stdout", 
       "text": [
        "", 
        "[36, 50]", 
        "[14, 22]"
       ]
      }, 
      {
       "output_type": "stream", 
       "stream": "stdout", 
       "text": [
        "", 
        "[7, 7]", 
        "[17, 31]"
       ]
      }, 
      {
       "output_type": "stream", 
       "stream": "stdout", 
       "text": [
        "", 
        "[15, 18]", 
        "[2, 3]"
       ]
      }, 
      {
       "output_type": "stream", 
       "stream": "stdout", 
       "text": [
        "", 
        "[108, 148]", 
        "[19, 27]"
       ]
      }, 
      {
       "output_type": "stream", 
       "stream": "stdout", 
       "text": [
        "", 
        "[13, 23]", 
        "[23, 31]"
       ]
      }, 
      {
       "output_type": "stream", 
       "stream": "stdout", 
       "text": [
        "", 
        "[4, 9]", 
        "[14, 19]"
       ]
      }, 
      {
       "output_type": "stream", 
       "stream": "stdout", 
       "text": [
        "", 
        "[6, 8]", 
        "[63, 83]"
       ]
      }, 
      {
       "output_type": "stream", 
       "stream": "stdout", 
       "text": [
        "", 
        "[11, 12]", 
        "[1, 1]"
       ]
      }, 
      {
       "output_type": "stream", 
       "stream": "stdout", 
       "text": [
        "", 
        "[13, 16]", 
        "[28, 48]"
       ]
      }, 
      {
       "output_type": "stream", 
       "stream": "stdout", 
       "text": [
        "", 
        "[18, 29]", 
        "[1, 8]"
       ]
      }, 
      {
       "output_type": "stream", 
       "stream": "stdout", 
       "text": [
        "", 
        "[1, 8]", 
        "[4, 23]", 
        "[4, 23]", 
        "[1, 12]", 
        "[1, 12]", 
        "[2, 20]", 
        "[2, 20]", 
        "[0, 0]", 
        "[0, 0]", 
        "[1, 2]", 
        "[1, 2]", 
        "[1, 2]"
       ]
      }, 
      {
       "output_type": "stream", 
       "stream": "stdout", 
       "text": [
        "", 
        "[1, 2]", 
        "[0, 0]", 
        "[0, 0]", 
        "[0, 0]", 
        "[0, 0]", 
        "[0, 0]", 
        "[0, 0]", 
        "[0, 0]", 
        "[0, 0]", 
        "[0, 0]", 
        "[0, 0]", 
        "[0, 0]", 
        "[0, 0]", 
        "[3, 24]", 
        "[3, 24]", 
        "[0, 0]"
       ]
      }, 
      {
       "output_type": "stream", 
       "stream": "stdout", 
       "text": [
        "", 
        "[0, 0]", 
        "[2, 8]", 
        "[2, 8]", 
        "[0, 0]", 
        "[0, 0]", 
        "[13, 46]", 
        "[13, 46]", 
        "[0, 0]", 
        "[0, 0]", 
        "[0, 0]", 
        "[0, 0]", 
        "[6, 23]", 
        "[6, 23]", 
        "[0, 0]", 
        "[0, 0]", 
        "[0, 0]", 
        "[0, 0]"
       ]
      }, 
      {
       "output_type": "stream", 
       "stream": "stdout", 
       "text": [
        "", 
        "[0, 0]", 
        "[0, 0]", 
        "[0, 0]", 
        "[0, 0]", 
        "[0, 0]", 
        "[0, 0]", 
        "[1, 2]", 
        "[1, 2]", 
        "[0, 0]", 
        "[0, 0]", 
        "[1, 6]", 
        "[1, 6]", 
        "[0, 0]", 
        "[0, 0]", 
        "[0, 0]", 
        "[0, 0]", 
        "[0, 0]", 
        "[0, 0]", 
        "[0, 0]", 
        "[0, 0]"
       ]
      }, 
      {
       "output_type": "stream", 
       "stream": "stdout", 
       "text": [
        "", 
        "[1, 6]", 
        "[1, 6]", 
        "[0, 0]", 
        "[0, 0]", 
        "[0, 0]", 
        "[0, 0]", 
        "[1, 2]", 
        "[1, 2]", 
        "[1, 2]", 
        "[1, 2]", 
        "[0, 0]", 
        "[0, 0]", 
        "[1, 2]", 
        "[1, 2]", 
        "[0, 0]", 
        "[0, 0]", 
        "[0, 0]"
       ]
      }, 
      {
       "output_type": "stream", 
       "stream": "stdout", 
       "text": [
        "", 
        "[0, 0]", 
        "[0, 0]", 
        "[0, 0]", 
        "[0, 0]", 
        "[0, 0]", 
        "[0, 0]", 
        "[0, 0]", 
        "[0, 0]", 
        "[0, 0]", 
        "[0, 0]", 
        "[0, 0]", 
        "[0, 0]", 
        "[0, 0]", 
        "[0, 0]", 
        "[0, 0]", 
        "[0, 0]", 
        "[0, 0]", 
        "[0, 0]", 
        "[0, 0]", 
        "[0, 0]", 
        "[0, 0]", 
        "[0, 0]"
       ]
      }, 
      {
       "output_type": "stream", 
       "stream": "stdout", 
       "text": [
        "", 
        "[0, 0]", 
        "[0, 0]", 
        "[0, 0]", 
        "[0, 0]", 
        "[0, 0]", 
        "[0, 0]", 
        "[0, 0]", 
        "[3, 15]", 
        "[3, 15]", 
        "[0, 0]", 
        "[0, 0]", 
        "[0, 0]", 
        "[0, 0]", 
        "[0, 0]", 
        "[0, 0]", 
        "[0, 0]", 
        "[0, 0]", 
        "[0, 0]"
       ]
      }, 
      {
       "output_type": "stream", 
       "stream": "stdout", 
       "text": [
        "", 
        "[0, 0]", 
        "[0, 0]", 
        "[0, 0]", 
        "[0, 0]", 
        "[0, 0]", 
        "[3, 20]", 
        "[3, 20]", 
        "[15, 84]", 
        "[15, 84]", 
        "[4, 21]", 
        "[4, 21]", 
        "[2, 12]", 
        "[2, 12]", 
        "[0, 0]", 
        "[0, 0]", 
        "[0, 0]", 
        "[0, 0]", 
        "[5, 23]", 
        "[5, 23]"
       ]
      }, 
      {
       "output_type": "stream", 
       "stream": "stdout", 
       "text": [
        "", 
        "[11, 97]", 
        "[11, 97]", 
        "[0, 0]", 
        "[0, 0]", 
        "[0, 0]", 
        "[0, 0]", 
        "[0, 0]", 
        "[0, 0]", 
        "[0, 0]", 
        "[0, 0]", 
        "[0, 0]", 
        "[0, 0]", 
        "[1, 12]", 
        "[2, 12]", 
        "[0, 0]", 
        "[0, 0]", 
        "[0, 0]"
       ]
      }, 
      {
       "output_type": "stream", 
       "stream": "stdout", 
       "text": [
        "", 
        "[0, 0]", 
        "[0, 0]", 
        "[0, 0]", 
        "[5, 29]", 
        "[5, 29]", 
        "[2, 28]", 
        "[2, 28]", 
        "[2, 12]", 
        "[2, 12]", 
        "[34, 197]", 
        "[34, 197]", 
        "[0, 0]", 
        "[0, 0]", 
        "[0, 0]", 
        "[0, 0]", 
        "[0, 0]", 
        "[0, 0]", 
        "[8, 44]", 
        "[8, 44]"
       ]
      }, 
      {
       "output_type": "stream", 
       "stream": "stdout", 
       "text": [
        "", 
        "[0, 0]", 
        "[0, 0]", 
        "[5, 30]", 
        "[5, 30]", 
        "[2, 10]", 
        "[2, 10]", 
        "[0, 0]", 
        "[0, 0]", 
        "[4, 26]", 
        "[4, 26]", 
        "[0, 0]", 
        "[0, 0]", 
        "[0, 0]", 
        "[0, 0]", 
        "[0, 0]", 
        "[0, 0]", 
        "[7, 50]", 
        "[7, 50]", 
        "[21, 142]"
       ]
      }, 
      {
       "output_type": "stream", 
       "stream": "stdout", 
       "text": [
        "", 
        "[21, 142]", 
        "[0, 0]", 
        "[0, 0]", 
        "[1, 9]", 
        "[1, 9]", 
        "[0, 0]", 
        "[0, 0]", 
        "[0, 0]", 
        "[0, 0]", 
        "[2, 18]", 
        "[2, 18]", 
        "[0, 0]", 
        "[0, 0]", 
        "[0, 0]", 
        "[0, 0]", 
        "[6, 47]", 
        "[6, 47]", 
        "[0, 0]", 
        "[0, 0]", 
        "[6, 45]", 
        "[6, 45]", 
        "[11, 57]", 
        "[11, 57]", 
        "[17, 92]"
       ]
      }, 
      {
       "output_type": "stream", 
       "stream": "stdout", 
       "text": [
        "", 
        "[17, 92]", 
        "[0, 0]", 
        "[0, 0]", 
        "[1, 5]", 
        "[1, 5]", 
        "[1, 16]", 
        "[1, 16]", 
        "[3, 19]", 
        "[3, 19]", 
        "[0, 0]", 
        "[0, 0]", 
        "[14, 104]", 
        "[14, 104]", 
        "[0, 0]", 
        "[0, 0]", 
        "[0, 0]", 
        "[0, 0]", 
        "[1, 5]", 
        "[1, 5]", 
        "[1, 6]"
       ]
      }, 
      {
       "output_type": "stream", 
       "stream": "stdout", 
       "text": [
        "", 
        "[1, 6]", 
        "[4, 24]", 
        "[4, 24]", 
        "[0, 0]", 
        "[0, 0]", 
        "[0, 0]", 
        "[0, 0]", 
        "[0, 0]", 
        "[0, 0]", 
        "[0, 0]", 
        "[0, 0]", 
        "[0, 17]", 
        "[4, 17]", 
        "[0, 33]", 
        "[12, 33]", 
        "[1, 42]"
       ]
      }, 
      {
       "output_type": "stream", 
       "stream": "stdout", 
       "text": [
        "", 
        "[23, 42]", 
        "[0, 6]", 
        "[3, 6]", 
        "[1, 5]", 
        "[3, 5]", 
        "[0, 12]", 
        "[7, 12]", 
        "[0, 0]", 
        "[0, 0]", 
        "[0, 0]", 
        "[0, 0]", 
        "[1, 9]", 
        "[2, 9]", 
        "[1, 9]"
       ]
      }, 
      {
       "output_type": "stream", 
       "stream": "stdout", 
       "text": [
        "", 
        "[2, 9]", 
        "[0, 0]", 
        "[0, 0]", 
        "[0, 0]", 
        "[0, 0]", 
        "[0, 0]", 
        "[0, 0]", 
        "[0, 0]", 
        "[0, 0]", 
        "[0, 0]", 
        "[0, 0]", 
        "[0, 0]"
       ]
      }, 
      {
       "output_type": "stream", 
       "stream": "stdout", 
       "text": [
        "", 
        "[0, 0]", 
        "[0, 0]", 
        "[0, 0]", 
        "[0, 0]", 
        "[0, 0]", 
        "[0, 0]", 
        "[0, 0]", 
        "[0, 0]", 
        "[0, 0]", 
        "[0, 0]", 
        "[0, 0]", 
        "[1, 3]"
       ]
      }, 
      {
       "output_type": "stream", 
       "stream": "stdout", 
       "text": [
        "", 
        "[1, 3]", 
        "[0, 0]", 
        "[0, 0]", 
        "[0, 0]", 
        "[0, 0]", 
        "[0, 0]", 
        "[0, 0]", 
        "[0, 0]", 
        "[0, 0]", 
        "[1, 2]", 
        "[1, 2]", 
        "[0, 0]"
       ]
      }, 
      {
       "output_type": "stream", 
       "stream": "stdout", 
       "text": [
        "", 
        "[0, 0]", 
        "[0, 0]", 
        "[0, 0]", 
        "[0, 0]", 
        "[0, 0]", 
        "[0, 0]", 
        "[0, 0]", 
        "[0, 0]", 
        "[0, 0]", 
        "[0, 0]", 
        "[0, 0]", 
        "[0, 0]"
       ]
      }, 
      {
       "output_type": "stream", 
       "stream": "stdout", 
       "text": [
        "[0, 0]", 
        "[0, 0]", 
        "[0, 0]", 
        "[0, 0]", 
        "[0, 0]", 
        "[0, 0]", 
        "[0, 0]", 
        "[0, 0]", 
        "[0, 0]", 
        "[2, 15]", 
        "[2, 15]", 
        "[0, 0]", 
        "[0, 0]"
       ]
      }, 
      {
       "output_type": "stream", 
       "stream": "stdout", 
       "text": [
        "", 
        "[0, 0]", 
        "[0, 0]", 
        "[0, 0]", 
        "[0, 0]", 
        "[1, 6]", 
        "[1, 6]", 
        "[0, 0]", 
        "[0, 0]", 
        "[1, 7]", 
        "[1, 7]", 
        "[0, 0]", 
        "[0, 0]"
       ]
      }, 
      {
       "output_type": "stream", 
       "stream": "stdout", 
       "text": [
        "", 
        "[0, 0]", 
        "[0, 0]", 
        "[0, 0]", 
        "[0, 0]", 
        "[2, 16]", 
        "[2, 16]", 
        "[0, 0]", 
        "[0, 0]", 
        "[4, 24]", 
        "[4, 24]", 
        "[0, 0]", 
        "[0, 0]", 
        "[0, 0]"
       ]
      }, 
      {
       "output_type": "stream", 
       "stream": "stdout", 
       "text": [
        "", 
        "[0, 0]", 
        "[0, 0]", 
        "[0, 0]", 
        "[0, 0]", 
        "[0, 0]", 
        "[3, 26]", 
        "[3, 26]", 
        "[7, 42]", 
        "[7, 42]", 
        "[4, 20]", 
        "[4, 20]", 
        "[0, 0]", 
        "[0, 0]", 
        "[0, 0]"
       ]
      }, 
      {
       "output_type": "stream", 
       "stream": "stdout", 
       "text": [
        "", 
        "[0, 0]", 
        "[0, 0]", 
        "[0, 0]", 
        "[0, 0]", 
        "[0, 0]", 
        "[0, 0]", 
        "[0, 0]", 
        "[2, 24]", 
        "[5, 24]", 
        "[0, 0]", 
        "[0, 0]", 
        "[1, 3]", 
        "[1, 3]", 
        "[0, 0]"
       ]
      }, 
      {
       "output_type": "stream", 
       "stream": "stdout", 
       "text": [
        "", 
        "[0, 0]", 
        "[6, 41]", 
        "[11, 41]", 
        "[0, 0]", 
        "[0, 0]", 
        "[0, 0]", 
        "[0, 0]", 
        "[0, 0]", 
        "[0, 0]", 
        "[0, 0]", 
        "[0, 0]", 
        "[2, 6]"
       ]
      }, 
      {
       "output_type": "stream", 
       "stream": "stdout", 
       "text": [
        "", 
        "[2, 6]", 
        "[1, 6]", 
        "[1, 6]", 
        "[0, 0]", 
        "[0, 0]", 
        "[0, 0]", 
        "[0, 0]", 
        "[8, 57]", 
        "[8, 57]", 
        "[0, 0]", 
        "[0, 0]", 
        "[0, 0]", 
        "[0, 0]"
       ]
      }, 
      {
       "output_type": "stream", 
       "stream": "stdout", 
       "text": [
        "", 
        "[2, 17]", 
        "[2, 17]", 
        "[5, 42]", 
        "[5, 42]", 
        "[3, 43]", 
        "[3, 43]", 
        "[4, 32]", 
        "[4, 32]", 
        "[1, 11]", 
        "[1, 11]", 
        "[2, 12]"
       ]
      }, 
      {
       "output_type": "stream", 
       "stream": "stdout", 
       "text": [
        "", 
        "[2, 12]", 
        "[2, 25]", 
        "[3, 25]", 
        "[2, 38]", 
        "[5, 38]", 
        "[1, 7]", 
        "[1, 7]", 
        "[1, 7]", 
        "[1, 7]", 
        "[1, 7]", 
        "[1, 7]", 
        "[3, 26]"
       ]
      }, 
      {
       "output_type": "stream", 
       "stream": "stdout", 
       "text": [
        "", 
        "[3, 26]", 
        "[1, 10]", 
        "[2, 10]", 
        "[3, 18]", 
        "[3, 18]", 
        "[6, 38]", 
        "[6, 38]", 
        "[1, 3]", 
        "[1, 3]", 
        "[1, 2]", 
        "[1, 2]", 
        "[3, 28]"
       ]
      }, 
      {
       "output_type": "stream", 
       "stream": "stdout", 
       "text": [
        "", 
        "[3, 28]", 
        "[0, 0]", 
        "[0, 0]", 
        "[1, 9]", 
        "[1, 9]", 
        "[1, 5]", 
        "[1, 5]", 
        "[2, 19]", 
        "[2, 19]", 
        "[1, 7]", 
        "[1, 7]", 
        "[1, 4]", 
        "[1, 4]", 
        "[1, 4]"
       ]
      }, 
      {
       "ename": "IntegrityError", 
       "evalue": "(1452, 'Cannot add or update a child row: a foreign key constraint fails (`neuroelectro`.`neuroelectro_ephysprop`, CONSTRAINT `units_id_refs_id_196ca741dc7f1816` FOREIGN KEY (`units_id`) REFERENCES `neuroelectro_unit` (`id`))')", 
       "output_type": "pyerr", 
       "traceback": [
        "\u001b[0;31m---------------------------------------------------------------------------\u001b[0m\n\u001b[0;31mIntegrityError\u001b[0m                            Traceback (most recent call last)", 
        "\u001b[0;32m/home/stripathy/neuroelectro_org/<ipython-input-4-cab83ef41484>\u001b[0m in \u001b[0;36m<module>\u001b[0;34m()\u001b[0m\n\u001b[0;32m----> 1\u001b[0;31m \u001b[0mclean_nedms_post_review\u001b[0m\u001b[0;34m(\u001b[0m\u001b[0;34m)\u001b[0m\u001b[0;34m\u001b[0m\u001b[0m\n\u001b[0m", 
        "\u001b[0;32m/home/stripathy/neuroelectro_org/dbrestore.py\u001b[0m in \u001b[0;36mclean_nedms_post_review\u001b[0;34m()\u001b[0m\n\u001b[1;32m    354\u001b[0m     \u001b[0me\u001b[0m \u001b[0;34m=\u001b[0m \u001b[0mm\u001b[0m\u001b[0;34m.\u001b[0m\u001b[0mEphysProp\u001b[0m\u001b[0;34m.\u001b[0m\u001b[0mobjects\u001b[0m\u001b[0;34m.\u001b[0m\u001b[0mget\u001b[0m\u001b[0;34m(\u001b[0m\u001b[0mname\u001b[0m\u001b[0;34m=\u001b[0m\u001b[0;34m'sag ratio'\u001b[0m\u001b[0;34m)\u001b[0m\u001b[0;34m\u001b[0m\u001b[0m\n\u001b[1;32m    355\u001b[0m     \u001b[0me\u001b[0m\u001b[0;34m.\u001b[0m\u001b[0munits\u001b[0m \u001b[0;34m=\u001b[0m \u001b[0mu\u001b[0m\u001b[0;34m\u001b[0m\u001b[0m\n\u001b[0;32m--> 356\u001b[0;31m     \u001b[0me\u001b[0m\u001b[0;34m.\u001b[0m\u001b[0msave\u001b[0m\u001b[0;34m(\u001b[0m\u001b[0;34m)\u001b[0m\u001b[0;34m\u001b[0m\u001b[0m\n\u001b[0m\u001b[1;32m    357\u001b[0m     \u001b[0me\u001b[0m \u001b[0;34m=\u001b[0m \u001b[0mm\u001b[0m\u001b[0;34m.\u001b[0m\u001b[0mEphysProp\u001b[0m\u001b[0;34m.\u001b[0m\u001b[0mobjects\u001b[0m\u001b[0;34m.\u001b[0m\u001b[0mget\u001b[0m\u001b[0;34m(\u001b[0m\u001b[0mname\u001b[0m\u001b[0;34m=\u001b[0m\u001b[0;34m'adaptation ratio'\u001b[0m\u001b[0;34m)\u001b[0m\u001b[0;34m\u001b[0m\u001b[0m\n\u001b[1;32m    358\u001b[0m     \u001b[0me\u001b[0m\u001b[0;34m.\u001b[0m\u001b[0munits\u001b[0m \u001b[0;34m=\u001b[0m \u001b[0mu\u001b[0m\u001b[0;34m\u001b[0m\u001b[0m\n", 
        "\u001b[0;32m/usr/local/lib/python2.7/dist-packages/django/db/models/base.pyc\u001b[0m in \u001b[0;36msave\u001b[0;34m(self, force_insert, force_update, using, update_fields)\u001b[0m\n\u001b[1;32m    543\u001b[0m \u001b[0;34m\u001b[0m\u001b[0m\n\u001b[1;32m    544\u001b[0m         self.save_base(using=using, force_insert=force_insert,\n\u001b[0;32m--> 545\u001b[0;31m                        force_update=force_update, update_fields=update_fields)\n\u001b[0m\u001b[1;32m    546\u001b[0m     \u001b[0msave\u001b[0m\u001b[0;34m.\u001b[0m\u001b[0malters_data\u001b[0m \u001b[0;34m=\u001b[0m \u001b[0mTrue\u001b[0m\u001b[0;34m\u001b[0m\u001b[0m\n\u001b[1;32m    547\u001b[0m \u001b[0;34m\u001b[0m\u001b[0m\n", 
        "\u001b[0;32m/usr/local/lib/python2.7/dist-packages/django/db/models/base.pyc\u001b[0m in \u001b[0;36msave_base\u001b[0;34m(self, raw, force_insert, force_update, using, update_fields)\u001b[0m\n\u001b[1;32m    571\u001b[0m             \u001b[0;32mif\u001b[0m \u001b[0;32mnot\u001b[0m \u001b[0mraw\u001b[0m\u001b[0;34m:\u001b[0m\u001b[0;34m\u001b[0m\u001b[0m\n\u001b[1;32m    572\u001b[0m                 \u001b[0mself\u001b[0m\u001b[0;34m.\u001b[0m\u001b[0m_save_parents\u001b[0m\u001b[0;34m(\u001b[0m\u001b[0mcls\u001b[0m\u001b[0;34m,\u001b[0m \u001b[0musing\u001b[0m\u001b[0;34m,\u001b[0m \u001b[0mupdate_fields\u001b[0m\u001b[0;34m)\u001b[0m\u001b[0;34m\u001b[0m\u001b[0m\n\u001b[0;32m--> 573\u001b[0;31m             \u001b[0mupdated\u001b[0m \u001b[0;34m=\u001b[0m \u001b[0mself\u001b[0m\u001b[0;34m.\u001b[0m\u001b[0m_save_table\u001b[0m\u001b[0;34m(\u001b[0m\u001b[0mraw\u001b[0m\u001b[0;34m,\u001b[0m \u001b[0mcls\u001b[0m\u001b[0;34m,\u001b[0m \u001b[0mforce_insert\u001b[0m\u001b[0;34m,\u001b[0m \u001b[0mforce_update\u001b[0m\u001b[0;34m,\u001b[0m \u001b[0musing\u001b[0m\u001b[0;34m,\u001b[0m \u001b[0mupdate_fields\u001b[0m\u001b[0;34m)\u001b[0m\u001b[0;34m\u001b[0m\u001b[0m\n\u001b[0m\u001b[1;32m    574\u001b[0m         \u001b[0;31m# Store the database on which the object was saved\u001b[0m\n\u001b[0;34m\u001b[0m\u001b[0m\n\u001b[1;32m    575\u001b[0m         \u001b[0mself\u001b[0m\u001b[0;34m.\u001b[0m\u001b[0m_state\u001b[0m\u001b[0;34m.\u001b[0m\u001b[0mdb\u001b[0m \u001b[0;34m=\u001b[0m \u001b[0musing\u001b[0m\u001b[0;34m\u001b[0m\u001b[0m\n", 
        "\u001b[0;32m/usr/local/lib/python2.7/dist-packages/django/db/models/base.pyc\u001b[0m in \u001b[0;36m_save_table\u001b[0;34m(self, raw, cls, force_insert, force_update, using, update_fields)\u001b[0m\n\u001b[1;32m    633\u001b[0m             \u001b[0mforced_update\u001b[0m \u001b[0;34m=\u001b[0m \u001b[0mupdate_fields\u001b[0m \u001b[0;32mor\u001b[0m \u001b[0mforce_update\u001b[0m\u001b[0;34m\u001b[0m\u001b[0m\n\u001b[1;32m    634\u001b[0m             updated = self._do_update(base_qs, using, pk_val, values, update_fields,\n\u001b[0;32m--> 635\u001b[0;31m                                       forced_update)\n\u001b[0m\u001b[1;32m    636\u001b[0m             \u001b[0;32mif\u001b[0m \u001b[0mforce_update\u001b[0m \u001b[0;32mand\u001b[0m \u001b[0;32mnot\u001b[0m \u001b[0mupdated\u001b[0m\u001b[0;34m:\u001b[0m\u001b[0;34m\u001b[0m\u001b[0m\n\u001b[1;32m    637\u001b[0m                 \u001b[0;32mraise\u001b[0m \u001b[0mDatabaseError\u001b[0m\u001b[0;34m(\u001b[0m\u001b[0;34m\"Forced update did not affect any rows.\"\u001b[0m\u001b[0;34m)\u001b[0m\u001b[0;34m\u001b[0m\u001b[0m\n", 
        "\u001b[0;32m/usr/local/lib/python2.7/dist-packages/django/db/models/base.pyc\u001b[0m in \u001b[0;36m_do_update\u001b[0;34m(self, base_qs, using, pk_val, values, update_fields, forced_update)\u001b[0m\n\u001b[1;32m    677\u001b[0m             \u001b[0;32melse\u001b[0m\u001b[0;34m:\u001b[0m\u001b[0;34m\u001b[0m\u001b[0m\n\u001b[1;32m    678\u001b[0m                 \u001b[0;32mreturn\u001b[0m \u001b[0mFalse\u001b[0m\u001b[0;34m\u001b[0m\u001b[0m\n\u001b[0;32m--> 679\u001b[0;31m         \u001b[0;32mreturn\u001b[0m \u001b[0mfiltered\u001b[0m\u001b[0;34m.\u001b[0m\u001b[0m_update\u001b[0m\u001b[0;34m(\u001b[0m\u001b[0mvalues\u001b[0m\u001b[0;34m)\u001b[0m \u001b[0;34m>\u001b[0m \u001b[0;36m0\u001b[0m\u001b[0;34m\u001b[0m\u001b[0m\n\u001b[0m\u001b[1;32m    680\u001b[0m \u001b[0;34m\u001b[0m\u001b[0m\n\u001b[1;32m    681\u001b[0m     \u001b[0;32mdef\u001b[0m \u001b[0m_do_insert\u001b[0m\u001b[0;34m(\u001b[0m\u001b[0mself\u001b[0m\u001b[0;34m,\u001b[0m \u001b[0mmanager\u001b[0m\u001b[0;34m,\u001b[0m \u001b[0musing\u001b[0m\u001b[0;34m,\u001b[0m \u001b[0mfields\u001b[0m\u001b[0;34m,\u001b[0m \u001b[0mupdate_pk\u001b[0m\u001b[0;34m,\u001b[0m \u001b[0mraw\u001b[0m\u001b[0;34m)\u001b[0m\u001b[0;34m:\u001b[0m\u001b[0;34m\u001b[0m\u001b[0m\n", 
        "\u001b[0;32m/usr/local/lib/python2.7/dist-packages/django/db/models/query.pyc\u001b[0m in \u001b[0;36m_update\u001b[0;34m(self, values)\u001b[0m\n\u001b[1;32m    505\u001b[0m         \u001b[0mquery\u001b[0m\u001b[0;34m.\u001b[0m\u001b[0madd_update_fields\u001b[0m\u001b[0;34m(\u001b[0m\u001b[0mvalues\u001b[0m\u001b[0;34m)\u001b[0m\u001b[0;34m\u001b[0m\u001b[0m\n\u001b[1;32m    506\u001b[0m         \u001b[0mself\u001b[0m\u001b[0;34m.\u001b[0m\u001b[0m_result_cache\u001b[0m \u001b[0;34m=\u001b[0m \u001b[0mNone\u001b[0m\u001b[0;34m\u001b[0m\u001b[0m\n\u001b[0;32m--> 507\u001b[0;31m         \u001b[0;32mreturn\u001b[0m \u001b[0mquery\u001b[0m\u001b[0;34m.\u001b[0m\u001b[0mget_compiler\u001b[0m\u001b[0;34m(\u001b[0m\u001b[0mself\u001b[0m\u001b[0;34m.\u001b[0m\u001b[0mdb\u001b[0m\u001b[0;34m)\u001b[0m\u001b[0;34m.\u001b[0m\u001b[0mexecute_sql\u001b[0m\u001b[0;34m(\u001b[0m\u001b[0mNone\u001b[0m\u001b[0;34m)\u001b[0m\u001b[0;34m\u001b[0m\u001b[0m\n\u001b[0m\u001b[1;32m    508\u001b[0m     \u001b[0m_update\u001b[0m\u001b[0;34m.\u001b[0m\u001b[0malters_data\u001b[0m \u001b[0;34m=\u001b[0m \u001b[0mTrue\u001b[0m\u001b[0;34m\u001b[0m\u001b[0m\n\u001b[1;32m    509\u001b[0m \u001b[0;34m\u001b[0m\u001b[0m\n", 
        "\u001b[0;32m/usr/local/lib/python2.7/dist-packages/django/db/models/sql/compiler.pyc\u001b[0m in \u001b[0;36mexecute_sql\u001b[0;34m(self, result_type)\u001b[0m\n\u001b[1;32m    974\u001b[0m         \u001b[0mrelated\u001b[0m \u001b[0mqueries\u001b[0m \u001b[0mare\u001b[0m \u001b[0;32mnot\u001b[0m \u001b[0mavailable\u001b[0m\u001b[0;34m.\u001b[0m\u001b[0;34m\u001b[0m\u001b[0m\n\u001b[1;32m    975\u001b[0m         \"\"\"\n\u001b[0;32m--> 976\u001b[0;31m         \u001b[0mcursor\u001b[0m \u001b[0;34m=\u001b[0m \u001b[0msuper\u001b[0m\u001b[0;34m(\u001b[0m\u001b[0mSQLUpdateCompiler\u001b[0m\u001b[0;34m,\u001b[0m \u001b[0mself\u001b[0m\u001b[0;34m)\u001b[0m\u001b[0;34m.\u001b[0m\u001b[0mexecute_sql\u001b[0m\u001b[0;34m(\u001b[0m\u001b[0mresult_type\u001b[0m\u001b[0;34m)\u001b[0m\u001b[0;34m\u001b[0m\u001b[0m\n\u001b[0m\u001b[1;32m    977\u001b[0m         \u001b[0mrows\u001b[0m \u001b[0;34m=\u001b[0m \u001b[0mcursor\u001b[0m\u001b[0;34m.\u001b[0m\u001b[0mrowcount\u001b[0m \u001b[0;32mif\u001b[0m \u001b[0mcursor\u001b[0m \u001b[0;32melse\u001b[0m \u001b[0;36m0\u001b[0m\u001b[0;34m\u001b[0m\u001b[0m\n\u001b[1;32m    978\u001b[0m         \u001b[0mis_empty\u001b[0m \u001b[0;34m=\u001b[0m \u001b[0mcursor\u001b[0m \u001b[0;32mis\u001b[0m \u001b[0mNone\u001b[0m\u001b[0;34m\u001b[0m\u001b[0m\n", 
        "\u001b[0;32m/usr/local/lib/python2.7/dist-packages/django/db/models/sql/compiler.pyc\u001b[0m in \u001b[0;36mexecute_sql\u001b[0;34m(self, result_type)\u001b[0m\n\u001b[1;32m    780\u001b[0m \u001b[0;34m\u001b[0m\u001b[0m\n\u001b[1;32m    781\u001b[0m         \u001b[0mcursor\u001b[0m \u001b[0;34m=\u001b[0m \u001b[0mself\u001b[0m\u001b[0;34m.\u001b[0m\u001b[0mconnection\u001b[0m\u001b[0;34m.\u001b[0m\u001b[0mcursor\u001b[0m\u001b[0;34m(\u001b[0m\u001b[0;34m)\u001b[0m\u001b[0;34m\u001b[0m\u001b[0m\n\u001b[0;32m--> 782\u001b[0;31m         \u001b[0mcursor\u001b[0m\u001b[0;34m.\u001b[0m\u001b[0mexecute\u001b[0m\u001b[0;34m(\u001b[0m\u001b[0msql\u001b[0m\u001b[0;34m,\u001b[0m \u001b[0mparams\u001b[0m\u001b[0;34m)\u001b[0m\u001b[0;34m\u001b[0m\u001b[0m\n\u001b[0m\u001b[1;32m    783\u001b[0m \u001b[0;34m\u001b[0m\u001b[0m\n\u001b[1;32m    784\u001b[0m         \u001b[0;32mif\u001b[0m \u001b[0;32mnot\u001b[0m \u001b[0mresult_type\u001b[0m\u001b[0;34m:\u001b[0m\u001b[0;34m\u001b[0m\u001b[0m\n", 
        "\u001b[0;32m/usr/local/lib/python2.7/dist-packages/django/db/backends/util.pyc\u001b[0m in \u001b[0;36mexecute\u001b[0;34m(self, sql, params)\u001b[0m\n\u001b[1;32m     67\u001b[0m         \u001b[0mstart\u001b[0m \u001b[0;34m=\u001b[0m \u001b[0mtime\u001b[0m\u001b[0;34m(\u001b[0m\u001b[0;34m)\u001b[0m\u001b[0;34m\u001b[0m\u001b[0m\n\u001b[1;32m     68\u001b[0m         \u001b[0;32mtry\u001b[0m\u001b[0;34m:\u001b[0m\u001b[0;34m\u001b[0m\u001b[0m\n\u001b[0;32m---> 69\u001b[0;31m             \u001b[0;32mreturn\u001b[0m \u001b[0msuper\u001b[0m\u001b[0;34m(\u001b[0m\u001b[0mCursorDebugWrapper\u001b[0m\u001b[0;34m,\u001b[0m \u001b[0mself\u001b[0m\u001b[0;34m)\u001b[0m\u001b[0;34m.\u001b[0m\u001b[0mexecute\u001b[0m\u001b[0;34m(\u001b[0m\u001b[0msql\u001b[0m\u001b[0;34m,\u001b[0m \u001b[0mparams\u001b[0m\u001b[0;34m)\u001b[0m\u001b[0;34m\u001b[0m\u001b[0m\n\u001b[0m\u001b[1;32m     70\u001b[0m         \u001b[0;32mfinally\u001b[0m\u001b[0;34m:\u001b[0m\u001b[0;34m\u001b[0m\u001b[0m\n\u001b[1;32m     71\u001b[0m             \u001b[0mstop\u001b[0m \u001b[0;34m=\u001b[0m \u001b[0mtime\u001b[0m\u001b[0;34m(\u001b[0m\u001b[0;34m)\u001b[0m\u001b[0;34m\u001b[0m\u001b[0m\n", 
        "\u001b[0;32m/usr/local/lib/python2.7/dist-packages/django/db/backends/util.pyc\u001b[0m in \u001b[0;36mexecute\u001b[0;34m(self, sql, params)\u001b[0m\n\u001b[1;32m     51\u001b[0m                 \u001b[0;32mreturn\u001b[0m \u001b[0mself\u001b[0m\u001b[0;34m.\u001b[0m\u001b[0mcursor\u001b[0m\u001b[0;34m.\u001b[0m\u001b[0mexecute\u001b[0m\u001b[0;34m(\u001b[0m\u001b[0msql\u001b[0m\u001b[0;34m)\u001b[0m\u001b[0;34m\u001b[0m\u001b[0m\n\u001b[1;32m     52\u001b[0m             \u001b[0;32melse\u001b[0m\u001b[0;34m:\u001b[0m\u001b[0;34m\u001b[0m\u001b[0m\n\u001b[0;32m---> 53\u001b[0;31m                 \u001b[0;32mreturn\u001b[0m \u001b[0mself\u001b[0m\u001b[0;34m.\u001b[0m\u001b[0mcursor\u001b[0m\u001b[0;34m.\u001b[0m\u001b[0mexecute\u001b[0m\u001b[0;34m(\u001b[0m\u001b[0msql\u001b[0m\u001b[0;34m,\u001b[0m \u001b[0mparams\u001b[0m\u001b[0;34m)\u001b[0m\u001b[0;34m\u001b[0m\u001b[0m\n\u001b[0m\u001b[1;32m     54\u001b[0m \u001b[0;34m\u001b[0m\u001b[0m\n\u001b[1;32m     55\u001b[0m     \u001b[0;32mdef\u001b[0m \u001b[0mexecutemany\u001b[0m\u001b[0;34m(\u001b[0m\u001b[0mself\u001b[0m\u001b[0;34m,\u001b[0m \u001b[0msql\u001b[0m\u001b[0;34m,\u001b[0m \u001b[0mparam_list\u001b[0m\u001b[0;34m)\u001b[0m\u001b[0;34m:\u001b[0m\u001b[0;34m\u001b[0m\u001b[0m\n", 
        "\u001b[0;32m/usr/local/lib/python2.7/dist-packages/django/db/utils.pyc\u001b[0m in \u001b[0;36m__exit__\u001b[0;34m(self, exc_type, exc_value, traceback)\u001b[0m\n\u001b[1;32m     97\u001b[0m                 \u001b[0;32mif\u001b[0m \u001b[0mdj_exc_type\u001b[0m \u001b[0;32mnot\u001b[0m \u001b[0;32min\u001b[0m \u001b[0;34m(\u001b[0m\u001b[0mDataError\u001b[0m\u001b[0;34m,\u001b[0m \u001b[0mIntegrityError\u001b[0m\u001b[0;34m)\u001b[0m\u001b[0;34m:\u001b[0m\u001b[0;34m\u001b[0m\u001b[0m\n\u001b[1;32m     98\u001b[0m                     \u001b[0mself\u001b[0m\u001b[0;34m.\u001b[0m\u001b[0mwrapper\u001b[0m\u001b[0;34m.\u001b[0m\u001b[0merrors_occurred\u001b[0m \u001b[0;34m=\u001b[0m \u001b[0mTrue\u001b[0m\u001b[0;34m\u001b[0m\u001b[0m\n\u001b[0;32m---> 99\u001b[0;31m                 \u001b[0msix\u001b[0m\u001b[0;34m.\u001b[0m\u001b[0mreraise\u001b[0m\u001b[0;34m(\u001b[0m\u001b[0mdj_exc_type\u001b[0m\u001b[0;34m,\u001b[0m \u001b[0mdj_exc_value\u001b[0m\u001b[0;34m,\u001b[0m \u001b[0mtraceback\u001b[0m\u001b[0;34m)\u001b[0m\u001b[0;34m\u001b[0m\u001b[0m\n\u001b[0m\u001b[1;32m    100\u001b[0m \u001b[0;34m\u001b[0m\u001b[0m\n\u001b[1;32m    101\u001b[0m     \u001b[0;32mdef\u001b[0m \u001b[0m__call__\u001b[0m\u001b[0;34m(\u001b[0m\u001b[0mself\u001b[0m\u001b[0;34m,\u001b[0m \u001b[0mfunc\u001b[0m\u001b[0;34m)\u001b[0m\u001b[0;34m:\u001b[0m\u001b[0;34m\u001b[0m\u001b[0m\n", 
        "\u001b[0;32m/usr/local/lib/python2.7/dist-packages/django/db/backends/util.pyc\u001b[0m in \u001b[0;36mexecute\u001b[0;34m(self, sql, params)\u001b[0m\n\u001b[1;32m     51\u001b[0m                 \u001b[0;32mreturn\u001b[0m \u001b[0mself\u001b[0m\u001b[0;34m.\u001b[0m\u001b[0mcursor\u001b[0m\u001b[0;34m.\u001b[0m\u001b[0mexecute\u001b[0m\u001b[0;34m(\u001b[0m\u001b[0msql\u001b[0m\u001b[0;34m)\u001b[0m\u001b[0;34m\u001b[0m\u001b[0m\n\u001b[1;32m     52\u001b[0m             \u001b[0;32melse\u001b[0m\u001b[0;34m:\u001b[0m\u001b[0;34m\u001b[0m\u001b[0m\n\u001b[0;32m---> 53\u001b[0;31m                 \u001b[0;32mreturn\u001b[0m \u001b[0mself\u001b[0m\u001b[0;34m.\u001b[0m\u001b[0mcursor\u001b[0m\u001b[0;34m.\u001b[0m\u001b[0mexecute\u001b[0m\u001b[0;34m(\u001b[0m\u001b[0msql\u001b[0m\u001b[0;34m,\u001b[0m \u001b[0mparams\u001b[0m\u001b[0;34m)\u001b[0m\u001b[0;34m\u001b[0m\u001b[0m\n\u001b[0m\u001b[1;32m     54\u001b[0m \u001b[0;34m\u001b[0m\u001b[0m\n\u001b[1;32m     55\u001b[0m     \u001b[0;32mdef\u001b[0m \u001b[0mexecutemany\u001b[0m\u001b[0;34m(\u001b[0m\u001b[0mself\u001b[0m\u001b[0;34m,\u001b[0m \u001b[0msql\u001b[0m\u001b[0;34m,\u001b[0m \u001b[0mparam_list\u001b[0m\u001b[0;34m)\u001b[0m\u001b[0;34m:\u001b[0m\u001b[0;34m\u001b[0m\u001b[0m\n", 
        "\u001b[0;32m/usr/local/lib/python2.7/dist-packages/django/db/backends/mysql/base.pyc\u001b[0m in \u001b[0;36mexecute\u001b[0;34m(self, query, args)\u001b[0m\n\u001b[1;32m    122\u001b[0m         \u001b[0;32mtry\u001b[0m\u001b[0;34m:\u001b[0m\u001b[0;34m\u001b[0m\u001b[0m\n\u001b[1;32m    123\u001b[0m             \u001b[0;31m# args is None means no string interpolation\u001b[0m\n\u001b[0;34m\u001b[0m\u001b[0m\n\u001b[0;32m--> 124\u001b[0;31m             \u001b[0;32mreturn\u001b[0m \u001b[0mself\u001b[0m\u001b[0;34m.\u001b[0m\u001b[0mcursor\u001b[0m\u001b[0;34m.\u001b[0m\u001b[0mexecute\u001b[0m\u001b[0;34m(\u001b[0m\u001b[0mquery\u001b[0m\u001b[0;34m,\u001b[0m \u001b[0margs\u001b[0m\u001b[0;34m)\u001b[0m\u001b[0;34m\u001b[0m\u001b[0m\n\u001b[0m\u001b[1;32m    125\u001b[0m         \u001b[0;32mexcept\u001b[0m \u001b[0mDatabase\u001b[0m\u001b[0;34m.\u001b[0m\u001b[0mOperationalError\u001b[0m \u001b[0;32mas\u001b[0m \u001b[0me\u001b[0m\u001b[0;34m:\u001b[0m\u001b[0;34m\u001b[0m\u001b[0m\n\u001b[1;32m    126\u001b[0m             \u001b[0;31m# Map some error codes to IntegrityError, since they seem to be\u001b[0m\n\u001b[0;34m\u001b[0m\u001b[0m\n", 
        "\u001b[0;32m/usr/local/lib/python2.7/dist-packages/MySQLdb/cursors.pyc\u001b[0m in \u001b[0;36mexecute\u001b[0;34m(self, query, args)\u001b[0m\n\u001b[1;32m    203\u001b[0m             \u001b[0;32mdel\u001b[0m \u001b[0mtb\u001b[0m\u001b[0;34m\u001b[0m\u001b[0m\n\u001b[1;32m    204\u001b[0m             \u001b[0mself\u001b[0m\u001b[0;34m.\u001b[0m\u001b[0mmessages\u001b[0m\u001b[0;34m.\u001b[0m\u001b[0mappend\u001b[0m\u001b[0;34m(\u001b[0m\u001b[0;34m(\u001b[0m\u001b[0mexc\u001b[0m\u001b[0;34m,\u001b[0m \u001b[0mvalue\u001b[0m\u001b[0;34m)\u001b[0m\u001b[0;34m)\u001b[0m\u001b[0;34m\u001b[0m\u001b[0m\n\u001b[0;32m--> 205\u001b[0;31m             \u001b[0mself\u001b[0m\u001b[0;34m.\u001b[0m\u001b[0merrorhandler\u001b[0m\u001b[0;34m(\u001b[0m\u001b[0mself\u001b[0m\u001b[0;34m,\u001b[0m \u001b[0mexc\u001b[0m\u001b[0;34m,\u001b[0m \u001b[0mvalue\u001b[0m\u001b[0;34m)\u001b[0m\u001b[0;34m\u001b[0m\u001b[0m\n\u001b[0m\u001b[1;32m    206\u001b[0m         \u001b[0mself\u001b[0m\u001b[0;34m.\u001b[0m\u001b[0m_executed\u001b[0m \u001b[0;34m=\u001b[0m \u001b[0mquery\u001b[0m\u001b[0;34m\u001b[0m\u001b[0m\n\u001b[1;32m    207\u001b[0m         \u001b[0;32mif\u001b[0m \u001b[0;32mnot\u001b[0m \u001b[0mself\u001b[0m\u001b[0;34m.\u001b[0m\u001b[0m_defer_warnings\u001b[0m\u001b[0;34m:\u001b[0m \u001b[0mself\u001b[0m\u001b[0;34m.\u001b[0m\u001b[0m_warning_check\u001b[0m\u001b[0;34m(\u001b[0m\u001b[0;34m)\u001b[0m\u001b[0;34m\u001b[0m\u001b[0m\n", 
        "\u001b[0;32m/usr/local/lib/python2.7/dist-packages/MySQLdb/connections.pyc\u001b[0m in \u001b[0;36mdefaulterrorhandler\u001b[0;34m(***failed resolving arguments***)\u001b[0m\n\u001b[1;32m     34\u001b[0m     \u001b[0;32mdel\u001b[0m \u001b[0mcursor\u001b[0m\u001b[0;34m\u001b[0m\u001b[0m\n\u001b[1;32m     35\u001b[0m     \u001b[0;32mdel\u001b[0m \u001b[0mconnection\u001b[0m\u001b[0;34m\u001b[0m\u001b[0m\n\u001b[0;32m---> 36\u001b[0;31m     \u001b[0;32mraise\u001b[0m \u001b[0merrorclass\u001b[0m\u001b[0;34m,\u001b[0m \u001b[0merrorvalue\u001b[0m\u001b[0;34m\u001b[0m\u001b[0m\n\u001b[0m\u001b[1;32m     37\u001b[0m \u001b[0;34m\u001b[0m\u001b[0m\n\u001b[1;32m     38\u001b[0m \u001b[0mre_numeric_part\u001b[0m \u001b[0;34m=\u001b[0m \u001b[0mre\u001b[0m\u001b[0;34m.\u001b[0m\u001b[0mcompile\u001b[0m\u001b[0;34m(\u001b[0m\u001b[0;34mr\"^(\\d+)\"\u001b[0m\u001b[0;34m)\u001b[0m\u001b[0;34m\u001b[0m\u001b[0m\n", 
        "\u001b[0;31mIntegrityError\u001b[0m: (1452, 'Cannot add or update a child row: a foreign key constraint fails (`neuroelectro`.`neuroelectro_ephysprop`, CONSTRAINT `units_id_refs_id_196ca741dc7f1816` FOREIGN KEY (`units_id`) REFERENCES `neuroelectro_unit` (`id`))')"
       ]
      }, 
      {
       "output_type": "stream", 
       "stream": "stdout", 
       "text": [
        "", 
        "[1, 4]", 
        "[1, 4]", 
        "[1, 4]", 
        "[1, 6]", 
        "[1, 6]", 
        "[0, 2]", 
        "[1, 2]"
       ]
      }
     ], 
     "prompt_number": 4
    }, 
    {
     "cell_type": "code", 
     "collapsed": true, 
     "input": [
      "nedms = m.NeuronEphysDataMap.objects.filter(ephys_concept_map__ephys_prop__id = 1)"
     ], 
     "language": "python", 
     "outputs": [], 
     "prompt_number": 12
    }, 
    {
     "cell_type": "code", 
     "collapsed": false, 
     "input": [
      "for nedm in nedms:", 
      "    print nedm.val_norm, nedm.source.data_table_id"
     ], 
     "language": "python", 
     "outputs": [
      {
       "output_type": "stream", 
       "stream": "stdout", 
       "text": [
        "32.8 187", 
        "56.0 43", 
        "424.0 1721", 
        "69.0 895", 
        "62.0 1838", 
        "83.0 1640", 
        "105.5 1770", 
        "45.0 1869", 
        "2800.0 8392", 
        "93.3 10253", 
        "92.1 11767", 
        "38.0 1642", 
        "37.0 8537", 
        "60.0 10525", 
        "16.6 224", 
        "16.0 910", 
        "334.14 1575", 
        "98.0 1835", 
        "118.0 1835", 
        "39.2 1643", 
        "28.2 3276", 
        "3.9 7834", 
        "46.2 7939", 
        "218.0 8283", 
        "119.0 8283", 
        "21.9 2570", 
        "543.7 8376", 
        "38.2 8365", 
        "25.1 19409", 
        "27.4 221", 
        "115.0 1637", 
        "88.0 1383", 
        "30.4 2293", 
        "47.2 2293", 
        "125.5 8365", 
        "473.2 21092", 
        "50.0 10371", 
        "129.7 190", 
        "23.9 266", 
        "23.6 266", 
        "25.5 266", 
        "37.9 1025", 
        "100.0 1936", 
        "19.5 1799", 
        "150.0 1935", 
        "0.94 2288", 
        "23.6 1865", 
        "98.0 1835", 
        "26.2 5487", 
        "727.0 1790", 
        "-0.01 1927", 
        "106.0 8283", 
        "181.0 8283", 
        "35.75 6315", 
        "131.0 6557", 
        "23.3 7806", 
        "155.0 8283", 
        "65.0 1835", 
        "42.1 9086", 
        "10.1 11048", 
        "10.6 946", 
        "68.0 21596", 
        "100.0 1936", 
        "0.64 2472", 
        "130.0 2354", 
        "7.4 7957", 
        "29.0 8245", 
        "63.4 2088", 
        "54.4 2570", 
        "64.0 1838", 
        "107.0 1838", 
        "86.53 218", 
        "4.62 21275", 
        "2.0 2695", 
        "33.0 488", 
        "29.4 628", 
        "24.2 628", 
        "61.0 17519", 
        "188.7 23000", 
        "159.6 23000", 
        "1033.0 16674", 
        "12.5 "
       ]
      }, 
      {
       "output_type": "stream", 
       "stream": "stdout", 
       "text": [
        "363", 
        "53.02 10906", 
        "60.8 133", 
        "175.0 8283"
       ]
      }
     ], 
     "prompt_number": 14
    }, 
    {
     "cell_type": "code", 
     "collapsed": false, 
     "input": [
      "m.Unit.objects.all()"
     ], 
     "language": "python", 
     "outputs": [
      {
       "output_type": "pyout", 
       "prompt_number": 21, 
       "text": [
        "[<Unit: pF>, <Unit: MOhms>, <Unit: mV>, <Unit: ms>, <Unit: pA>, <Unit: Hz>, <Unit: um>, <Unit: m>]"
       ]
      }
     ], 
     "prompt_number": 21
    }, 
    {
     "cell_type": "code", 
     "collapsed": true, 
     "input": [
      "u.delete()"
     ], 
     "language": "python", 
     "outputs": [], 
     "prompt_number": 19
    }, 
    {
     "cell_type": "code", 
     "collapsed": true, 
     "input": [
      "u = m.Unit.objects.create(name='ratio', prefix = '')", 
      "e = m.EphysProp.objects.get(name='sag ratio')", 
      "e.units = u", 
      "e.save()", 
      "e = m.EphysProp.objects.get(name='adaptation ratio')", 
      "e.units = u", 
      "e.save()", 
      "e = m.EphysProp.objects.get(name='Spontaneous firing rate')", 
      "e.name = 'spontaneous firing rate'", 
      "e.save()"
     ], 
     "language": "python", 
     "outputs": [], 
     "prompt_number": 23
    }, 
    {
     "cell_type": "code", 
     "collapsed": false, 
     "input": [
      "assign_neuron_neuron_db_ids()"
     ], 
     "language": "python", 
     "outputs": [
      {
       "output_type": "stream", 
       "stream": "stdout", 
       "text": [
        "Assigning neuron db ids to neurons", 
        "CA1 pyramidal neuron Hippocampus CA1 pyramidal cell", 
        "Dentate granule cell"
       ]
      }, 
      {
       "output_type": "stream", 
       "stream": "stdout", 
       "text": [
        " Dentate gyrus granule cell", 
        "CA3 pyramidal neuron"
       ]
      }, 
      {
       "output_type": "stream", 
       "stream": "stdout", 
       "text": [
        " Hippocampus CA3 pyramidal cell", 
        "Neostriatal spiny neuron"
       ]
      }, 
      {
       "output_type": "stream", 
       "stream": "stdout", 
       "text": [
        " Neostriatum medium spiny neuron", 
        "Thalamic relay neuron"
       ]
      }, 
      {
       "output_type": "stream", 
       "stream": "stdout", 
       "text": [
        " Thalamus relay cell", 
        "Thalamic reticular neuron Thalamic reticular nucleus cell", 
        "Neocortical pyramidal neuron: deep"
       ]
      }, 
      {
       "output_type": "stream", 
       "stream": "stdout", 
       "text": [
        " Neocortex pyramidal cell layer 5-6", 
        "Olfactory bulb mitral cell"
       ]
      }, 
      {
       "output_type": "stream", 
       "stream": "stdout", 
       "text": [
        " Olfactory bulb (main) mitral cell", 
        "Cerebellar purkinje cell"
       ]
      }, 
      {
       "output_type": "stream", 
       "stream": "stdout", 
       "text": [
        " Cerebellum Purkinje cell", 
        "Spinal motor neuron Spinal cord ventral horn motor neuron alpha", 
        "Spinal Ia interneuron"
       ]
      }, 
      {
       "output_type": "stream", 
       "stream": "stdout", 
       "text": [
        " Spinal cord ventral horn interneuron V2", 
        "Neostriatal cholinergic interneuron Neostriatum cholinergic cell", 
        "Cerebellar granule cell"
       ]
      }, 
      {
       "output_type": "stream", 
       "stream": "stdout", 
       "text": [
        " Cerebellum granule cell", 
        "Olfactory bulb granule cell Olfactory bulb (main) granule cell", 
        "Neocortical basket cell"
       ]
      }, 
      {
       "output_type": "stream", 
       "stream": "stdout", 
       "text": [
        " Neocortex basket cell", 
        "Nigral dopaminergic cell Substantia nigra pars compacta dopaminergic cell", 
        "Neocortical pyramidal neuron: superficial"
       ]
      }, 
      {
       "output_type": "stream", 
       "stream": "stdout", 
       "text": [
        " Neocortex pyramidal cell layer 2-3", 
        "CN octopus cell Cochlear nucleus (ventral) octopus cell", 
        "CN bushy cell"
       ]
      }, 
      {
       "output_type": "stream", 
       "stream": "stdout", 
       "text": [
        " Cochlear nucleus (ventral) bushy cell", 
        "Olfactory cortex pyramidal neuron Olfactory cortex pyramidal cell", 
        "Retinal ganglion cell"
       ]
      }, 
      {
       "output_type": "stream", 
       "stream": "stdout", 
       "text": [
        " Retina ganglion cell", 
        "Olfactory bulb periglomerular cell Olfactory bulb (main) periglomerular cell", 
        "Retinal bipolar cell"
       ]
      }, 
      {
       "output_type": "stream", 
       "stream": "stdout", 
       "text": [
        " Retina bipolar cell"
       ]
      }
     ], 
     "prompt_number": 24
    }, 
    {
     "cell_type": "code", 
     "collapsed": true, 
     "input": [
      "dts = m.DataTable.objects.filter(datasource__ephysconceptmap__isnull = False)", 
      "filt_dts = dts.filter(datasource__ephysconceptmap__times_validated__gte = 1).distinct()", 
      "for dt in filt_dts:", 
      "    ecms = m.EphysConceptMap.objects.filter(source__data_table = dt, times_validated__lt = 1).distinct()", 
      "    for ecm in ecms:", 
      "        ecms.delete()"
     ], 
     "language": "python", 
     "outputs": [], 
     "prompt_number": 26
    }, 
    {
     "cell_type": "code", 
     "collapsed": false, 
     "input": [
      "m.NeuronEphysDataMap.objects.filter(source__data_table__id = 8283, ephys_concept_map__ephys_prop__id = 13)"
     ], 
     "language": "python", 
     "outputs": [
      {
       "output_type": "pyout", 
       "prompt_number": 27, 
       "text": [
        "[<NeuronEphysDataMap: Neuron: PC (n = 19) Hippocampus CA1 pyramidal cell ", 
        " Ephys: Relative sag amplitude sag ratio ", 
        " Value: 0.0>, <NeuronEphysDataMap: Neuron: FS PTI (n = 7)", 
        "                         Hippocampus CA1 basket cell ", 
        " Ephys: Relative sag amplitude sag ratio ", 
        " Value: 0.0>, <NeuronEphysDataMap: Neuron: OLM (n = 12)", 
        "                         Hippocampus CA1 oriens lacunosum moleculare neuron ", 
        " Ephys: Relative sag amplitude sag ratio ", 
        " Value: 0.0>]"
       ]
      }
     ], 
     "prompt_number": 27
    }, 
    {
     "cell_type": "code", 
     "collapsed": false, 
     "input": [
      "nedms = m.NeuronEphysDataMap.objects.filter(source__data_table__id = 8283, ephys_concept_map__ephys_prop__id = 13)", 
      "for nedm in nedms:", 
      "    print nedm.ref_text, nedm.id, nedm.val"
     ], 
     "language": "python", 
     "outputs": [
      {
       "output_type": "stream", 
       "stream": "stdout", 
       "text": [
        "0.175 (0.160\u20130.216) 4270 0.0", 
        "0.074 (0.021\u20130.138) 4266 0.0", 
        "0.445 (0.382\u20130.644) 4262 0.0"
       ]
      }
     ], 
     "prompt_number": 29
    }, 
    {
     "cell_type": "code", 
     "collapsed": true, 
     "input": [
      "nedms[0].val_norm = 0.175", 
      "nedms[1].val_norm = .074", 
      "nedms[2].val_norm = 0.445", 
      "nedms[0].save()", 
      "nedms[1].save()", 
      "nedms[2].save()"
     ], 
     "language": "python", 
     "outputs": [], 
     "prompt_number": 31
    }, 
    {
     "cell_type": "code", 
     "collapsed": false, 
     "input": [
      "nedms = m.NeuronEphysDataMap.objects.filter(source__data_table__id = 12, ephys_concept_map__ephys_prop__id = 8)", 
      "for nedm in nedms:", 
      "    print nedm.ref_text, nedm.id, nedm.val, nedm.val_norm", 
      "nedms[0].val_norm = nedms[0].val * 1000", 
      "nedms[1].val_norm = nedms[1].val * 1000", 
      "nedms[0].save()", 
      "nedms[1].save()"
     ], 
     "language": "python", 
     "outputs": [
      {
       "output_type": "stream", 
       "stream": "stdout", 
       "text": [
        "0.16 \u00b1 0.08 213 0.16 0.16", 
        "0.05 \u00b1 0.03 2494 0.05 0.05"
       ]
      }
     ], 
     "prompt_number": 4
    }, 
    {
     "cell_type": "code", 
     "collapsed": false, 
     "input": [
      "for nedm in nedms:", 
      "    print nedm.ref_text, nedm.id, nedm.val, nedm.val_norm"
     ], 
     "language": "python", 
     "outputs": [
      {
       "output_type": "stream", 
       "stream": "stdout", 
       "text": [
        "0.16 \u00b1 0.08 213 0.16 160.0", 
        "0.05 \u00b1 0.03 2494 0.05 50.0"
       ]
      }
     ], 
     "prompt_number": 6
    }, 
    {
     "cell_type": "code", 
     "collapsed": true, 
     "input": [
      "nedms = m.NeuronEphysDataMap.objects.filter(ephys_concept_map__ephys_prop__id = 16, val__lte = -40)", 
      "count = 0", 
      "for nedm in nedms:", 
      "    dt = nedm.source.data_table", 
      "    thresh_nedms = m.NeuronEphysDataMap.objects.filter(ephys_concept_map__ephys_prop__id = 7, source__data_table__article = dt.article)", 
      "    if thresh_nedms.count() > 0:", 
      "        count += 1", 
      "    #print nedm.ref_text, nedm.id, nedm.val, nedm.val_norm", 
      "    #print thresh_nedms"
     ], 
     "language": "python", 
     "outputs": [], 
     "prompt_number": 16
    }, 
    {
     "cell_type": "code", 
     "collapsed": false, 
     "input": [
      "nedms = m.NeuronEphysDataMap.objects.filter(ephys_concept_map__ephys_prop__id__in = [16, 19, 21])", 
      "count = 0", 
      "for nedm in nedms:", 
      "    if nedm.val < -40:", 
      "        dt = nedm.source.data_table", 
      "        ncm = nedm.neuron_concept_map", 
      "        neuron = nedm.neuron_concept_map.neuron", 
      "        thresh_nedms = m.NeuronEphysDataMap.objects.filter(ephys_concept_map__ephys_prop__id = 7, neuron_concept_map = ncm)", 
      "        if thresh_nedms.count() == 0:", 
      "            nedm.val_norm = None", 
      "        else:", 
      "            normalized_ahp_val = thresh_nedms[0].val_norm - nedm.val", 
      "            nedm.val_norm = normalized_ahp_val", 
      "    elif nedm.val < 0:", 
      "        print nedm.val", 
      "        nedm.val_norm = -nedm.val", 
      "    nedm.save()"
     ], 
     "language": "python", 
     "outputs": [
      {
       "output_type": "stream", 
       "stream": "stdout", 
       "text": [
        "-16.9", 
        "-1.7", 
        "-11.6", 
        "-19.0", 
        "-6.7", 
        "-11.0", 
        "-7.77", 
        "-12.86", 
        "-12.0", 
        "-15.5", 
        "-16.0"
       ]
      }, 
      {
       "output_type": "stream", 
       "stream": "stdout", 
       "text": [
        "", 
        "-14.0", 
        "-13.5", 
        "-21.3", 
        "-4.1", 
        "-3.7", 
        "-13.3", 
        "-3.1", 
        "-3.1", 
        "-22.3", 
        "-18.5", 
        "-17.5", 
        "-9.47", 
        "-12.9", 
        "-7.9"
       ]
      }, 
      {
       "output_type": "stream", 
       "stream": "stdout", 
       "text": [
        "", 
        "-12.5", 
        "-14.0", 
        "-27.0", 
        "-9.7", 
        "-6.7", 
        "-7.8", 
        "-6.8", 
        "-9.11", 
        "-12.6"
       ]
      }, 
      {
       "output_type": "stream", 
       "stream": "stdout", 
       "text": [
        "", 
        "-22.4", 
        "-21.8", 
        "-11.6"
       ]
      }, 
      {
       "output_type": "stream", 
       "stream": "stdout", 
       "text": [
        "", 
        "-5.8", 
        "-11.2", 
        "-1.9", 
        "-21.0", 
        "-9.0", 
        "-6.2", 
        "-13.2", 
        "-11.2", 
        "-7.1", 
        "-4.6", 
        "-20.4"
       ]
      }, 
      {
       "output_type": "stream", 
       "stream": "stdout", 
       "text": [
        "", 
        "-1.9", 
        "-4.6", 
        "-3.4", 
        "-4.2", 
        "-9.6", 
        "-19.9", 
        "-6.1", 
        "-10.7", 
        "-7.9", 
        "-1.9", 
        "-20.1"
       ]
      }, 
      {
       "output_type": "stream", 
       "stream": "stdout", 
       "text": [
        "", 
        "-11.7", 
        "-0.6", 
        "-20.0", 
        "-2.3", 
        "-6.2", 
        "-2.8", 
        "-24.5", 
        "-3.1", 
        "-13.1"
       ]
      }
     ], 
     "prompt_number": 29
    }, 
    {
     "cell_type": "code", 
     "collapsed": false, 
     "input": [
      "nedms = m.NeuronEphysDataMap.objects.filter(ephys_concept_map__ephys_prop__id__in = [16, 19, 21])", 
      "    "
     ], 
     "language": "python", 
     "outputs": [
      {
       "output_type": "stream", 
       "stream": "stdout", 
       "text": [
        "6.8 Input\u2013output slope in Figure 1E (action potentials per nA) \u00d710\u22122 3068", 
        "0.2  f-i slope (Hz/pA)ad", 
        "2913", 
        "186.0 Gain (Hz/nA) < 80 Hz 3217", 
        "206.0 Gain (Hz/nA) < 80 Hz 2774", 
        "379.0 Gain (Hz/nA) < 80 Hz 2770", 
        "273.28 FR vs. I slope, Hz/nA* 218", 
        "109.9 FR vs. I slope, Hz/nA* 2499", 
        "6.4 Ramp F\u2013I slope, pps/nA", 
        "                         137", 
        "13.0 f\u2013I slope, Hz/nA", 
        "                         1636", 
        "36.2 f\u2013I terminal slope Hz/nA", 
        "                              ", 
        "                            3920", 
        "9.1 Slope of FI curve, action potentials/nA 467", 
        "0.45 f\u2013i slope (Hz pA\u22121)d**", 
        "                         2908", 
        "0.31 F\u2013I slope (Hz/pA)", 
        "                            3445", 
        "45.0  \u2002\u2002\u2002Slope (spikes/nA)  3118", 
        "7.4 \u2003f\u2013I slope", 
        "                         1254", 
        "120.8 \u2003f\u2013I slope", 
        "                         2935", 
        "0.05 Frequency-current gain, Hz/pA 1051", 
        "48.2 Primary f/I (Hz/nA)", 
        "                         2804", 
        "0.09 I/O slope (Hz/pA)df 3861", 
        "0.3 I/O slope (Hz/pA)df 2925", 
        "38.5"
       ]
      }, 
      {
       "output_type": "stream", 
       "stream": "stdout", 
       "text": [
        " ", 
        "F-I relation, Hz/nAe", 
        "3024", 
        "43.5 ", 
        "F-I relation, Hz/nAe", 
        "3025", 
        "156.0 Primary f-I slope, Hz/nA", 
        "                         3055", 
        "36.3 Slope (Hz/nA) 3705", 
        "128.0 Slope (Hz/nA) 3714", 
        "29.3 Slope (Hz/200 pA) 3728", 
        "0.32 Slope frequency/intensity (Hz/pA) 3506", 
        "0.4 Slope frequency/intensity (Hz/pA) 3497"
       ]
      }
     ], 
     "prompt_number": 35
    }, 
    {
     "cell_type": "code", 
     "collapsed": false, 
     "input": [
      "nedms = m.NeuronEphysDataMap.objects.filter(ephys_concept_map__ephys_prop__id__in = [17])", 
      "for nedm in nedms:", 
      "    ephys_ref_text = nedm.ephys_concept_map.ref_text", 
      "    print nedm.val_norm, ephys_ref_text, nedm.pk"
     ], 
     "language": "python", 
     "outputs": [
      {
       "output_type": "stream", 
       "stream": "stdout", 
       "text": [
        "6.8 Input\u2013output slope in Figure 1E (action potentials per nA) \u00d710\u22122 3068", 
        "200.0  f-i slope (Hz/pA)ad", 
        "2913", 
        "186.0 Gain (Hz/nA) < 80 Hz 3217", 
        "206.0 Gain (Hz/nA) < 80 Hz 2774", 
        "379.0 Gain (Hz/nA) < 80 Hz 2770", 
        "273.28 FR vs. I slope, Hz/nA* 218", 
        "109.9 FR vs. I slope, Hz/nA* 2499", 
        "6.4 Ramp F\u2013I slope, pps/nA", 
        "                         137", 
        "13.0 f\u2013I slope, Hz/nA", 
        "                         1636", 
        "36.2 f\u2013I terminal slope Hz/nA", 
        "                              ", 
        "                            3920", 
        "9.1 Slope of FI curve, action potentials/nA 467", 
        "0.45 f\u2013i slope (Hz pA\u22121)d**", 
        "                         2908", 
        "310.0 F\u2013I slope (Hz/pA)", 
        "                            3445", 
        "45.0  \u2002\u2002\u2002Slope (spikes/nA)  3118", 
        "7.4 \u2003f\u2013I slope", 
        "                         1254", 
        "120.8 \u2003f\u2013I slope", 
        "                         2935", 
        "50.0 Frequency-current gain, Hz/pA 1051", 
        "48.2 Primary f/I (Hz/nA)", 
        "                         2804", 
        "90.0 I/O slope (Hz/pA)df 3861", 
        "300.0 I/O slope (Hz/pA)df 2925", 
        "38.5 ", 
        "F-I relation, Hz/nAe", 
        "3024", 
        "43.5 ", 
        "F-I relation, Hz/nAe", 
        "3025", 
        "156.0 Primary f-I slope, Hz/nA", 
        "                         3055", 
        "36.3 Slope (Hz/nA) 3705", 
        "128.0 Slope (Hz/nA) 3714", 
        "29.3 Slope (Hz/200 pA) 3728", 
        "320.0 Slope frequency/intensity (Hz/pA) 3506", 
        "400.0 Slope frequency/intensity (Hz/pA) 3497"
       ]
      }
     ], 
     "prompt_number": 37
    }, 
    {
     "cell_type": "code", 
     "collapsed": true, 
     "input": [
      "nedms = m.NeuronEphysDataMap.objects.filter(ephys_concept_map__ephys_prop__id__in = [13])", 
      "for nedm in nedms:", 
      "    if nedm.val_norm < .5:", 
      "        nedm.val_norm = 1 - nedm.val_norm", 
      "        nedm.save()"
     ], 
     "language": "python", 
     "outputs": [], 
     "prompt_number": 43
    }, 
    {
     "cell_type": "code", 
     "collapsed": false, 
     "input": [
      "nedms = m.NeuronEphysDataMap.objects.filter(ephys_concept_map__ephys_prop__id__in = [13])", 
      "for nedm in nedms:", 
      "    print nedm.val_norm, nedm.pk, nedm.neuron_concept_map.neuron"
     ], 
     "language": "python", 
     "outputs": [
      {
       "output_type": "stream", 
       "stream": "stdout", 
       "text": [
        "0.94 2504 Lateral amygdala projection neuron", 
        "0.79 1988 Subiculum pyramidal cell", 
        "0.79 4092 Hippocampus CA1 pyramidal cell", 
        "0.82 4330 Dentate gyrus hilar cell", 
        "0.97 3802 Dentate gyrus granule cell", 
        "0.97 3810 Dentate gyrus basket cell", 
        "0.81 3818 Dentate gyrus mossy cell", 
        "1.0 4270 Hippocampus CA1 pyramidal cell", 
        "1.0 4266 Hippocampus CA1 basket cell", 
        "1.0 4262 Hippocampus CA1 oriens lacunosum moleculare neuron", 
        "0.83 278 Amygdaloid nucleus paracapsular intercalated cell", 
        "0.92 555 Amygdaloid nucleus paracapsular intercalated cell", 
        "0.97 99 Basalis nucleus cholinergic neuron", 
        "0.66 3112 Medial entorhinal cortex layer II stellate cell", 
        "0.92 664 Amygdaloid nucleus paracapsular intercalated cell", 
        "0.96 135 Spinal cord ventral horn motor neuron alpha", 
        "0.899 1315 Neocortex pyramidal cell layer 5-6", 
        "0.834 3048 Neocortex layer 4 stellate cell", 
        "0.743 3042 Neocortex pyramidal cell layer 5-6", 
        "0.836 3036 Neocortex pyramidal cell layer 2-3", 
        "0.8721 85 Cerebellar nucleus cell", 
        "0.93 2553 Olfactory cortex pyramidal cell", 
        "0.91 2544 Olfactory cortex semilunar cell", 
        "0.9252 307 Neocortex pyramidal cell layer 5-6", 
        "0.62 1438 Medial entorhinal cortex layer II stellate cell", 
        "0.938 3653 Amygdala basolateral nucleus pyramidal neuron", 
        "0.98 4107 Subiculum pyramidal cell", 
        "1.56 4114 Subiculum pyramidal cell"
       ]
      }
     ], 
     "prompt_number": 44
    }, 
    {
     "cell_type": "code", 
     "collapsed": false, 
     "input": [
      "nedm = m.NeuronEphysDataMap.objects.get(pk = 4107)", 
      "nedm.val_norm = 1./nedm.val", 
      "nedm.save()", 
      "print nedm", 
      "nedm = m.NeuronEphysDataMap.objects.get(pk = 4114)", 
      "nedm.val_norm = 1./nedm.val", 
      "nedm.save()", 
      "print nedm"
     ], 
     "language": "python", 
     "outputs": [
      {
       "output_type": "stream", 
       "stream": "stdout", 
       "text": [
        "Neuron: B Subiculum pyramidal cell ", 
        " Ephys: ?Sag ratio sag ratio ", 
        " Value: 1.0", 
        "Neuron: RS Subiculum pyramidal cell ", 
        " Ephys: ?Sag ratio sag ratio ", 
        " Value: 1.6"
       ]
      }
     ], 
     "prompt_number": 45
    }, 
    {
     "cell_type": "code", 
     "collapsed": false, 
     "input": [
      "nedms = m.NeuronEphysDataMap.objects.filter(source__data_table__pk = 8283, ephys_concept_map__ephys_prop__pk = 13)", 
      "for nedm in nedms:", 
      "    print nedm.pk, nedm"
     ], 
     "language": "python", 
     "outputs": [
      {
       "output_type": "stream", 
       "stream": "stdout", 
       "text": [
        "4270 Neuron: PC (n = 19) Hippocampus CA1 pyramidal cell ", 
        " Ephys: Relative sag amplitude sag ratio ", 
        " Value: 0.0", 
        "4266 Neuron: FS PTI (n = 7)", 
        "                         Hippocampus CA1 basket cell ", 
        " Ephys: Relative sag amplitude sag ratio ", 
        " Value: 0.0", 
        "4262 Neuron: OLM (n = 12)", 
        "                         Hippocampus CA1 oriens lacunosum moleculare neuron ", 
        " Ephys: Relative sag amplitude sag ratio ", 
        " Value: 0.0"
       ]
      }
     ], 
     "prompt_number": 50
    }, 
    {
     "cell_type": "code", 
     "collapsed": true, 
     "input": [
      "nedm = m.NeuronEphysDataMap.objects.get(pk = 4270)", 
      "nedm.val = 175", 
      "nedm.val_norm = 1 - .175", 
      "nedm.save()", 
      "nedm = m.NeuronEphysDataMap.objects.get(pk = 4266)", 
      "nedm.val = .074", 
      "nedm.val_norm = 1 - .074", 
      "nedm.save()", 
      "nedm = m.NeuronEphysDataMap.objects.get(pk = 4262)", 
      "nedm.val = .445", 
      "nedm.val_norm = 1 - .445", 
      "nedm.save()"
     ], 
     "language": "python", 
     "outputs": [], 
     "prompt_number": 51
    }, 
    {
     "cell_type": "code", 
     "collapsed": false, 
     "input": [
      "from html_table_decode import *", 
      "nedms = m.NeuronEphysDataMap.objects.filter(ephys_concept_map__ephys_prop__id__in = [27])", 
      "for nedm in nedms:", 
      "    ecm_ref_text = nedm.ephys_concept_map.ref_text", 
      "    ", 
      "    ref_text = nedm.ref_text", 
      "    resolved = resolveDataFloat(ref_text)", 
      "    val = resolved['value']", 
      "    nedm.val = val", 
      "    nedm.save()", 
      "    ref_text = nedm.ephys_concept_map.ref_text", 
      "    toks = nltk.word_tokenize(ref_text)", 
      "    not_match_flag = 0", 
      "    for tok in toks:", 
      "        if tok == '%':", 
      "            rep_val = nedm.val", 
      "            print '%', ref_text", 
      "            not_match_flag = 1", 
      "            val = rep_val/100.0", 
      "            break", 
      "    nedm.val_norm = val", 
      "    nedm.save()"
     ], 
     "language": "python", 
     "outputs": [
      {
       "output_type": "stream", 
       "stream": "stdout", 
       "text": [
        "% Early adaptation, %", 
        "% Early adaptation, %", 
        "% Early adaptation, %", 
        "% Early adaptation, %", 
        "% Adaptation (%)", 
        "% Adaptation (%)", 
        "% Adaptation (%)", 
        "% Spike adaptation (%)", 
        "%"
       ]
      }, 
      {
       "output_type": "stream", 
       "stream": "stdout", 
       "text": [
        " % freq. adaptation", 
        "% % freq. adaptation"
       ]
      }
     ], 
     "prompt_number": 63
    }, 
    {
     "cell_type": "code", 
     "collapsed": true, 
     "input": [
      "def has_pct(ref_text):", 
      "    toks = nltk.word_tokenize(ref_text)", 
      "    not_match_flag = False", 
      "    for tok in toks:", 
      "        if tok == '%':", 
      "            not_match_flag = True", 
      "            break", 
      "    return not_match_flag"
     ], 
     "language": "python", 
     "outputs": [], 
     "prompt_number": 8
    }, 
    {
     "cell_type": "code", 
     "collapsed": false, 
     "input": [
      "has_pct('15\u2009 \u00b1\u200915%\u2009(36)')"
     ], 
     "language": "python", 
     "outputs": [
      {
       "output_type": "pyout", 
       "prompt_number": 11, 
       "text": [
        "True"
       ]
      }
     ], 
     "prompt_number": 11
    }, 
    {
     "cell_type": "code", 
     "collapsed": false, 
     "input": [
      "nedms = m.NeuronEphysDataMap.objects.filter(ephys_concept_map__ephys_prop__id__in = [27]).distinct()", 
      "nedms = nedms.order_by('-source__data_table__article__pk')", 
      "for nedm in nedms:", 
      "    print nedm.val, '\\t', nedm.val_norm, '\\t', nedm.pk, '\\t', nedm.source.data_table.article.pk, '\\t', nedm.source.data_table.article.title"
     ], 
     "language": "python", 
     "outputs": [
      {
       "output_type": "stream", 
       "stream": "stdout", 
       "text": [
        "0.51 \t0.51 \t3870 \t80730 \tDense inhibitory connectivity in neocortex.", 
        "0.32 \t0.32 \t3704 \t78966 \tElectrophysiological characteristics of substantia nigra neurons in organotypic cultures: spontaneous and evoked activities.", 
        "0.56 \t0.56 \t3713 \t78966 \tElectrophysiological characteristics of substantia nigra neurons in organotypic cultures: spontaneous and evoked activities.", 
        "0.53 \t0.53 \t3507 \t78193 \tTwo distinct populations of projection neurons in the rat lateral parafascicular thalamic nucleus and their cholinergic responsiveness.", 
        "0.3 \t0.3 \t3496 \t78193 \tTwo distinct populations of projection neurons in the rat lateral parafascicular thalamic nucleus and their cholinergic responsiveness.", 
        "0.6 \t0.6 \t3436 \t71533 \tActivation of neuropeptide S-expressing neurons in the locus coeruleus by corticotropin-releasing factor.", 
        "1.15 \t1.15 \t2782 \t50667 \tP2Y1 receptor modulation of Ca2+-activated K+ currents in medium-sized neurons from neonatal rat striatal slices.", 
        "49.0 \t0.49 \t3124 \t46287 \tNMDA receptor-dependent long-term potentiation in mouse hippocampal interneurons shows a unique dependence on Ca(2+)/calmodulin-dependent kinases.", 
        "26.0 \t0.26 \t3131 \t46287 \tNMDA receptor-dependent long-term potentiation in mouse hippocampal interneurons shows a unique dependence on Ca(2+)/calmodulin-dependent kinases.", 
        "0.78 \t0.78 \t2769 \t44296 \tSynaptic heterogeneity between mouse paracapsular intercalated neurons of the amygdala.", 
        "2.0 \t2.0 \t3138 \t43018 \tCell-specific spike-timing-dependent plasticity in GABAergic and cholinergic interneurons in corticostriatal rat brain slices.", 
        "0.96 \t0.96 \t3149 \t43018 \tCell-specific spike-timing-dependent plasticity in GABAergic and cholinergic interneurons in corticostriatal rat brain slices.", 
        "1.2 \t1.2 \t3160 \t43018 \tCell-specific spike-timing-dependent plasticity in GABAergic and cholinergic interneurons in corticostriatal rat brain slices.", 
        "0.63 \t0.63 \t1011 \t40619 \tFlexible spike timing of layer 5 neurons during dynamic beta oscillation shifts in rat prefrontal cortex.", 
        "1.0 \t1.0 \t2911 \t40619 \tFlexible spike timing of layer 5 neurons during dynamic beta oscillation shifts in rat prefrontal cortex.", 
        "15.0 \t15.0 \t3250 \t37700 \tDevelopmental synaptic changes increase the range of integrative capabilities of an identified excitatory neocortical connection.", 
        "1.07 \t1.07 \t2926 \t36072 \tSpike-timing-dependent plasticity of neocortical excitatory synapses on inhibitory interneurons depends on target cell type.", 
        "2.05 \t2.05 \t3862 \t36072 \tSpike-timing-dependent plasticity of neocortical excitatory synapses on inhibitory interneurons depends on target cell type.", 
        "1.01 \t1.01 \t3208 \t35516 \tCommon origins of hippocampal Ivy and nitric oxide synthase expressing neurogliaform cells.", 
        "1.14 \t1.14 \t3196 \t35516 \tCommon origins of hippocampal Ivy and nitric oxide synthase expressing neurogliaform cells.", 
        "1.22 \t1.22 \t3184 \t35516 \tCommon origins of hippocampal Ivy and nitric oxide synthase expressing neurogliaform cells.", 
        "0.61 \t0.61 \t2689 \t35210 \tDifferent fear states engage distinct networks within the intercalated cell clusters of the amygdala.", 
        "0.52 \t0.52 \t2537 \t35210 \tDifferent fear states engage distinct networks within the intercalated cell clusters of the amygdala.", 
        "0.92 \t0.92 \t3520 \t34198 \tAuditory thalamocortical transmission is reliable and temporally precise.", 
        "0.37 \t0.37 \t3527 \t34198 \tAuditory thalamocortical transmission is reliable and temporally precise.", 
        "0.93 \t0.93 \t3905 \t34180 \tCluster analysis-based physiological classification and morphological properties of inhibitory neurons in layers 2-3 of monkey dorsolateral prefrontal cortex.", 
        "0.85 \t0.85 \t145 \t33933 \tParvalbumin-positive basket interneurons in monkey and rat prefrontal cortex.", 
        "57.6 \t0.576 \t3972 \t33912 \tGlutamatergic nonpyramidal neurons from neocortical layer VI and their comparison with pyramidal and spiny stellate neurons.", 
        "48.7 \t0.487 \t3969 \t33912"
       ]
      }, 
      {
       "output_type": "stream", 
       "stream": "stdout", 
       "text": [
        " \tGlutamatergic nonpyramidal neurons from neocortical layer VI and their comparison with pyramidal and spiny stellate neurons.", 
        "59.5 \t0.595 \t3971 \t33912 \tGlutamatergic nonpyramidal neurons from neocortical layer VI and their comparison with pyramidal and spiny stellate neurons.", 
        "65.8 \t0.658 \t3970 \t33912 \tGlutamatergic nonpyramidal neurons from neocortical layer VI and their comparison with pyramidal and spiny stellate neurons.", 
        "0.73 \t0.73 \t455 \t33819 \tResponse sensitivity of barrel neuron subpopulations to simulated thalamic input.", 
        "0.11 \t0.11 \t2593 \t33819 \tResponse sensitivity of barrel neuron subpopulations to simulated thalamic input.", 
        "0.11 \tNone \t4350 \t33819 \tResponse sensitivity of barrel neuron subpopulations to simulated thalamic input.", 
        "0.73 \tNone \t4349 \t33819 \tResponse sensitivity of barrel neuron subpopulations to simulated thalamic input.", 
        "5.3 \t5.3 \t4248 \t33708 \tAge-dependent effect of hearing loss on cortical inhibitory synapse function.", 
        "1.4 \t1.4 \t128 \t33708 \tAge-dependent effect of hearing loss on cortical inhibitory synapse function.", 
        "0.78 \t0.78 \t217 \t33698 \tCharacterization of thalamocortical responses of regular-spiking and fast-spiking neurons of the mouse auditory cortex in vitro and in silico.", 
        "0.31 \t0.31 \t2498 \t33698 \tCharacterization of thalamocortical responses of regular-spiking and fast-spiking neurons of the mouse auditory cortex in vitro and in silico.", 
        "18.5 \t18.5 \t2931 \t29326 \tDifferential effects of Na+-K+ ATPase blockade on cortical layer V neurons.", 
        "9.1 \t9.1 \t2937 \t29326 \tDifferential effects of Na+-K+ ATPase blockade on cortical layer V neurons.", 
        "1.18 \t1.18 \t449 \t27420 \tSubtype-specific dendritic Ca(2+) dynamics of inhibitory interneurons in the rat visual cortex.", 
        "0.97 \t0.97 \t4284 \t27420 \tSubtype-specific dendritic Ca(2+) dynamics of inhibitory interneurons in the rat visual cortex.", 
        "0.19 \t0.19 \t3652 \t26026 \tDistinct subtypes of cholecystokinin (CCK)-containing interneurons of the basolateral amygdala identified using a CCK promoter-specific lentivirus.", 
        "0.25 \t0.25 \t2507 \t25973 \tGABAergic interneurons in the mouse lateral amygdala: a classification study.", 
        "0.81 \t0.81 \t4261 \t25307 \tTransgenic mouse lines subdivide medial vestibular nucleus neurons into discrete, neurochemically distinct populations.", 
        "1.1 \t1.1 \t2914 \t23747 \tMajor differences in inhibitory synaptic transmission onto two neocortical interneuron subclasses.", 
        "-4.8 \t-0.048 \t2803 \t11495 \tMorphology, intrinsic membrane properties, and rotation-evoked responses of trochlear motoneurons in the turtle.", 
        "40.0 \t0.4 \t1244 \t11195 \tTransition to seizures in the isolated immature mouse hippocampus: a switch from dominant phasic inhibition to dominant phasic excitation.", 
        "20.0 \t0.2 \t2999 \t11195 \tTransition to seizures in the isolated immature mouse hippocampus: a switch from dominant phasic inhibition to dominant phasic excitation.", 
        "26.0 \t0.26 \t3004 \t11195 \tTransition to seizures in the isolated immature mouse hippocampus: a switch from dominant phasic inhibition to dominant phasic excitation."
       ]
      }
     ], 
     "prompt_number": 22
    }, 
    {
     "cell_type": "code", 
     "collapsed": true, 
     "input": [
      "nedms = m.NeuronEphysDataMap.objects.filter(source__data_table__pk = 10636, ephys_concept_map__ephys_prop__pk = 17).distinct()", 
      "for nedm in nedms:", 
      "    nedm.val_norm = nedm.val", 
      "    nedm.save()"
     ], 
     "language": "python", 
     "outputs": [], 
     "prompt_number": 26
    }, 
    {
     "cell_type": "code", 
     "collapsed": false, 
     "input": [
      "m.Neuron.objects.all()"
     ], 
     "language": "python", 
     "outputs": [
      {
       "output_type": "pyout", 
       "prompt_number": 8, 
       "text": [
        "[<Neuron: Abducens nucleus motor neuron>, <Neuron: Amygdala basolateral nucleus pyramidal neuron>, <Neuron: Amygdala corticomedial nucleus pyramidal cell>, <Neuron: Amygdaloid nucleus paracapsular intercalated cell>, <Neuron: BNST basket neuron>, <Neuron: BNST beaded neuron>, <Neuron: BNST common spiny neuron>, <Neuron: BNST small pyramidal neuron>, <Neuron: BNST spiny bipolar neuron>, <Neuron: BNST spiny neuron with chandelier-like axon>, <Neuron: BNST superficial spiny neuron>, <Neuron: BNST triangular neuron>, <Neuron: BNST dense axon plexus-forming neuron>, <Neuron: Basalis nucleus cholinergic neuron>, <Neuron: Caudate nucleus matrix medium spiny cell>, <Neuron: Cerebellum Golgi cell>, <Neuron: Cerebellum Lugaro cell>, <Neuron: Cerebellum Purkinje cell>, <Neuron: Cerebellum basket cell>, <Neuron: Cerebellum candelabrum cell>, '...(remaining elements truncated)...']"
       ]
      }, 
      {
       "output_type": "stream", 
       "stream": "stdout", 
       "text": [
        "", 
        "Caching the list of root modules, please wait!", 
        "(This will only be done once - type '%rehashx' to reset cache!)"
       ]
      }
     ], 
     "prompt_number": 8
    }, 
    {
     "cell_type": "code", 
     "collapsed": true, 
     "input": [
      "from dbrestore import *"
     ], 
     "language": "python", 
     "outputs": [], 
     "prompt_number": 9
    }, 
    {
     "cell_type": "code", 
     "collapsed": false, 
     "input": [
      "dbrestore.assign_ephys_norm_criteria()"
     ], 
     "language": "python", 
     "outputs": [
      {
       "ename": "NameError", 
       "evalue": "name 'dbrestore' is not defined", 
       "output_type": "pyerr", 
       "traceback": [
        "\u001b[0;31m---------------------------------------------------------------------------\u001b[0m\n\u001b[0;31mNameError\u001b[0m                                 Traceback (most recent call last)", 
        "\u001b[0;32m/home/stripathy/neuroelectro_org/<ipython-input-10-3082c2ecab4c>\u001b[0m in \u001b[0;36m<module>\u001b[0;34m()\u001b[0m\n\u001b[0;32m----> 1\u001b[0;31m \u001b[0mdbrestore\u001b[0m\u001b[0;34m.\u001b[0m\u001b[0massign_ephys_norm_criteria\u001b[0m\u001b[0;34m(\u001b[0m\u001b[0;34m)\u001b[0m\u001b[0;34m\u001b[0m\u001b[0m\n\u001b[0m", 
        "\u001b[0;31mNameError\u001b[0m: name 'dbrestore' is not defined"
       ]
      }
     ], 
     "prompt_number": 10
    }, 
    {
     "cell_type": "code", 
     "collapsed": true, 
     "input": [
      "from dbrestore import assign_ephys_norm_criteria"
     ], 
     "language": "python", 
     "outputs": [], 
     "prompt_number": 11
    }, 
    {
     "cell_type": "code", 
     "collapsed": false, 
     "input": [
      "assign_ephys_norm_criteria()"
     ], 
     "language": "python", 
     "outputs": [
      {
       "output_type": "stream", 
       "stream": "stdout", 
       "text": [
        "Assigning Ephys defs and normalization criteria", 
        "cell capacitance"
       ]
      }, 
      {
       "output_type": "stream", 
       "stream": "stdout", 
       "text": [
        " cell capacitance", 
        "input resistance"
       ]
      }, 
      {
       "output_type": "stream", 
       "stream": "stdout", 
       "text": [
        " input resistance", 
        "resting membrane potential"
       ]
      }, 
      {
       "output_type": "stream", 
       "stream": "stdout", 
       "text": [
        " resting membrane potential", 
        "membrane time constant"
       ]
      }, 
      {
       "output_type": "stream", 
       "stream": "stdout", 
       "text": [
        " membrane time constant", 
        "spike amplitude"
       ]
      }, 
      {
       "output_type": "stream", 
       "stream": "stdout", 
       "text": [
        " spike amplitude", 
        "spike half-width"
       ]
      }, 
      {
       "output_type": "stream", 
       "stream": "stdout", 
       "text": [
        " spike half-width", 
        "spike threshold"
       ]
      }, 
      {
       "output_type": "stream", 
       "stream": "stdout", 
       "text": [
        " spike threshold", 
        "rheobase"
       ]
      }, 
      {
       "output_type": "stream", 
       "stream": "stdout", 
       "text": [
        " rheobase", 
        "firing frequency"
       ]
      }, 
      {
       "output_type": "stream", 
       "stream": "stdout", 
       "text": [
        " firing frequency", 
        "AHP duration"
       ]
      }, 
      {
       "output_type": "stream", 
       "stream": "stdout", 
       "text": [
        " AHP duration", 
        "cell diameter"
       ]
      }, 
      {
       "output_type": "stream", 
       "stream": "stdout", 
       "text": [
        " cell diameter", 
        "access resistance"
       ]
      }, 
      {
       "output_type": "stream", 
       "stream": "stdout", 
       "text": [
        " access resistance", 
        "sag ratio"
       ]
      }, 
      {
       "output_type": "stream", 
       "stream": "stdout", 
       "text": [
        " sag ratio", 
        "spike overshoot"
       ]
      }, 
      {
       "output_type": "stream", 
       "stream": "stdout", 
       "text": [
        " spike overshoot", 
        "cell surface area cell surface area", 
        "AHP amplitude"
       ]
      }, 
      {
       "output_type": "stream", 
       "stream": "stdout", 
       "text": [
        " AHP amplitude", 
        "FI slope"
       ]
      }, 
      {
       "output_type": "stream", 
       "stream": "stdout", 
       "text": [
        " FI slope", 
        "spontaneous firing rate"
       ]
      }, 
      {
       "output_type": "stream", 
       "stream": "stdout", 
       "text": [
        " spontaneous firing rate", 
        "fast AHP amplitude"
       ]
      }, 
      {
       "output_type": "stream", 
       "stream": "stdout", 
       "text": [
        " fast AHP amplitude", 
        "fast AHP duration"
       ]
      }, 
      {
       "output_type": "stream", 
       "stream": "stdout", 
       "text": [
        " fast AHP duration", 
        "slow AHP amplitude"
       ]
      }, 
      {
       "output_type": "stream", 
       "stream": "stdout", 
       "text": [
        " slow AHP amplitude", 
        "slow AHP duration"
       ]
      }, 
      {
       "output_type": "stream", 
       "stream": "stdout", 
       "text": [
        " slow AHP duration", 
        "spike width"
       ]
      }, 
      {
       "output_type": "stream", 
       "stream": "stdout", 
       "text": [
        " spike width", 
        "ADP amplitude"
       ]
      }, 
      {
       "output_type": "stream", 
       "stream": "stdout", 
       "text": [
        " ADP amplitude", 
        "ADP duration"
       ]
      }, 
      {
       "output_type": "stream", 
       "stream": "stdout", 
       "text": [
        " ADP duration", 
        "spike peak"
       ]
      }, 
      {
       "output_type": "stream", 
       "stream": "stdout", 
       "text": [
        " spike peak", 
        "adaptation ratio"
       ]
      }, 
      {
       "output_type": "stream", 
       "stream": "stdout", 
       "text": [
        " adaptation ratio", 
        "first spike latency"
       ]
      }, 
      {
       "output_type": "stream", 
       "stream": "stdout", 
       "text": [
        " first spike latency"
       ]
      }
     ], 
     "prompt_number": 10
    }, 
    {
     "cell_type": "code", 
     "collapsed": true, 
     "input": [
      "import textwrap"
     ], 
     "language": "python", 
     "outputs": [], 
     "prompt_number": 15
    }, 
    {
     "cell_type": "code", 
     "collapsed": false, 
     "input": [
      "update_adaptation_ratios()"
     ], 
     "language": "python", 
     "outputs": [
      {
       "output_type": "stream", 
       "stream": "stdout", 
       "text": [
        "Assigning Ephys defs and normalization criteria", 
        "3870 0.51", 
        "3704 0.32", 
        "3713 0.56", 
        "3507 0.53", 
        "3496 0.3", 
        "3436 0.6", 
        "2782 0.869565217391", 
        "3124 0.51", 
        "3131 0.74", 
        "2769 0.78", 
        "3138 0.5", 
        "3149 1.04166666667", 
        "3160 1.2", 
        "1011 0.63", 
        "2911 1.0", 
        "3250 0.85", 
        "2926"
       ]
      }, 
      {
       "output_type": "stream", 
       "stream": "stdout", 
       "text": [
        " 0.934579439252", 
        "3862 0.487804878049", 
        "3208 0.990099009901", 
        "3196 0.877192982456", 
        "3184 0.819672131148", 
        "2689 0.61", 
        "2537 0.52", 
        "3520 0.92", 
        "3527 0.37", 
        "3905 0.93", 
        "145 0.85", 
        "3972 0.424", 
        "3969 0.513", 
        "3971 0.405", 
        "3970 0.342", 
        "455 0.73", 
        "2593 0.11", 
        "4350 None", 
        "4349 None", 
        "4248"
       ]
      }, 
      {
       "output_type": "stream", 
       "stream": "stdout", 
       "text": [
        " 0.188679245283", 
        "128 0.714285714286", 
        "217 0.78", 
        "2498 0.31", 
        "2931 0.815", 
        "2937 0.909", 
        "449 0.847457627119", 
        "4284 1.03092783505", 
        "3652 0.19", 
        "2507 0.25", 
        "4261 0.81", 
        "2914 0.909090909091", 
        "2803 0.952", 
        "1244"
       ]
      }, 
      {
       "output_type": "stream", 
       "stream": "stdout", 
       "text": [
        " 0.6", 
        "2999 0.8", 
        "3004 0.74"
       ]
      }
     ], 
     "prompt_number": 11
    }, 
    {
     "cell_type": "code", 
     "collapsed": false, 
     "input": [
      "update_summary_fields()"
     ], 
     "language": "python", 
     "outputs": [
      {
       "output_type": "stream", 
       "stream": "stdout", 
       "text": [
        "updating field summaries", 
        "[56, 64]"
       ]
      }, 
      {
       "output_type": "stream", 
       "stream": "stdout", 
       "text": [
        "", 
        "[235, 388]"
       ]
      }, 
      {
       "output_type": "stream", 
       "stream": "stdout", 
       "text": [
        "", 
        "[223, 352]"
       ]
      }, 
      {
       "output_type": "stream", 
       "stream": "stdout", 
       "text": [
        "", 
        "[87, 158]", 
        "[157, 231]"
       ]
      }, 
      {
       "output_type": "stream", 
       "stream": "stdout", 
       "text": [
        "", 
        "[125, 198]"
       ]
      }, 
      {
       "output_type": "stream", 
       "stream": "stdout", 
       "text": [
        "", 
        "[161, 242]", 
        "[54, 70]"
       ]
      }, 
      {
       "output_type": "stream", 
       "stream": "stdout", 
       "text": [
        "", 
        "[39, 64]", 
        "[36, 49]"
       ]
      }, 
      {
       "output_type": "stream", 
       "stream": "stdout", 
       "text": [
        "", 
        "[14, 22]", 
        "[7, 7]"
       ]
      }, 
      {
       "output_type": "stream", 
       "stream": "stdout", 
       "text": [
        "", 
        "[16, 28]", 
        "[14, 16]"
       ]
      }, 
      {
       "output_type": "stream", 
       "stream": "stdout", 
       "text": [
        "", 
        "[2, 3]", 
        "[107, 148]"
       ]
      }, 
      {
       "output_type": "stream", 
       "stream": "stdout", 
       "text": [
        "", 
        "[19, 30]", 
        "[13, 23]"
       ]
      }, 
      {
       "output_type": "stream", 
       "stream": "stdout", 
       "text": [
        "", 
        "[22, 29]", 
        "[3, 6]"
       ]
      }, 
      {
       "output_type": "stream", 
       "stream": "stdout", 
       "text": [
        "", 
        "[15, 20]"
       ]
      }, 
      {
       "output_type": "stream", 
       "stream": "stdout", 
       "text": [
        "", 
        "[6, 8]", 
        "[63, 84]"
       ]
      }, 
      {
       "output_type": "stream", 
       "stream": "stdout", 
       "text": [
        "", 
        "[8, 8]", 
        "[1, 1]"
       ]
      }, 
      {
       "output_type": "stream", 
       "stream": "stdout", 
       "text": [
        "", 
        "[12, 15]", 
        "[28, 49]"
       ]
      }, 
      {
       "output_type": "stream", 
       "stream": "stdout", 
       "text": [
        "", 
        "[18, 29]", 
        "[1, 8]"
       ]
      }, 
      {
       "output_type": "stream", 
       "stream": "stdout", 
       "text": [
        "", 
        "[1, 8]", 
        "[4, 23]", 
        "[4, 23]", 
        "[1, 12]"
       ]
      }, 
      {
       "output_type": "stream", 
       "stream": "stdout", 
       "text": [
        "", 
        "[1, 12]", 
        "[2, 28]", 
        "[2, 28]", 
        "[0, 0]", 
        "[0, 0]", 
        "[1, 2]", 
        "[1, 2]", 
        "[1, 2]", 
        "[1, 2]", 
        "[0, 0]", 
        "[0, 0]", 
        "[0, 0]", 
        "[0, 0]"
       ]
      }, 
      {
       "output_type": "stream", 
       "stream": "stdout", 
       "text": [
        "", 
        "[0, 0]", 
        "[0, 0]", 
        "[0, 0]", 
        "[0, 0]", 
        "[0, 0]", 
        "[0, 0]", 
        "[0, 0]", 
        "[0, 0]", 
        "[3, 24]", 
        "[3, 24]", 
        "[0, 0]", 
        "[0, 0]", 
        "[2, 8]"
       ]
      }, 
      {
       "output_type": "stream", 
       "stream": "stdout", 
       "text": [
        "", 
        "[2, 8]", 
        "[0, 0]", 
        "[0, 0]", 
        "[13, 46]", 
        "[13, 46]", 
        "[0, 0]", 
        "[0, 0]", 
        "[0, 0]", 
        "[0, 0]", 
        "[6, 23]", 
        "[6, 23]", 
        "[0, 0]"
       ]
      }, 
      {
       "output_type": "stream", 
       "stream": "stdout", 
       "text": [
        "", 
        "[0, 0]", 
        "[0, 0]", 
        "[0, 0]", 
        "[0, 0]", 
        "[0, 0]", 
        "[0, 0]", 
        "[0, 0]", 
        "[0, 0]", 
        "[0, 0]", 
        "[1, 2]", 
        "[1, 2]", 
        "[0, 0]", 
        "[0, 0]", 
        "[1, 6]"
       ]
      }, 
      {
       "output_type": "stream", 
       "stream": "stdout", 
       "text": [
        "", 
        "[1, 6]", 
        "[0, 0]", 
        "[0, 0]", 
        "[0, 0]", 
        "[0, 0]", 
        "[0, 0]", 
        "[0, 0]", 
        "[0, 0]", 
        "[0, 0]", 
        "[1, 6]", 
        "[1, 6]", 
        "[0, 0]", 
        "[0, 0]"
       ]
      }, 
      {
       "output_type": "stream", 
       "stream": "stdout", 
       "text": [
        "", 
        "[0, 0]", 
        "[0, 0]", 
        "[1, 2]", 
        "[1, 2]", 
        "[1, 2]", 
        "[1, 2]", 
        "[0, 0]", 
        "[0, 0]", 
        "[1, 2]", 
        "[1, 2]", 
        "[0, 0]", 
        "[0, 0]", 
        "[0, 0]"
       ]
      }, 
      {
       "output_type": "stream", 
       "stream": "stdout", 
       "text": [
        "", 
        "[0, 0]", 
        "[0, 0]", 
        "[0, 0]", 
        "[0, 0]", 
        "[0, 0]", 
        "[0, 0]", 
        "[0, 0]", 
        "[0, 0]", 
        "[0, 0]", 
        "[0, 0]", 
        "[0, 0]", 
        "[0, 0]", 
        "[0, 0]"
       ]
      }, 
      {
       "output_type": "stream", 
       "stream": "stdout", 
       "text": [
        "", 
        "[0, 0]", 
        "[0, 0]", 
        "[0, 0]", 
        "[0, 0]", 
        "[0, 0]", 
        "[0, 0]", 
        "[0, 0]", 
        "[0, 0]", 
        "[0, 0]", 
        "[0, 0]", 
        "[0, 0]", 
        "[0, 0]", 
        "[0, 0]"
       ]
      }, 
      {
       "output_type": "stream", 
       "stream": "stdout", 
       "text": [
        "", 
        "[0, 0]", 
        "[0, 0]", 
        "[0, 0]", 
        "[3, 15]", 
        "[3, 15]", 
        "[0, 0]", 
        "[0, 0]", 
        "[0, 0]", 
        "[0, 0]", 
        "[0, 0]", 
        "[0, 0]", 
        "[0, 0]", 
        "[0, 0]", 
        "[0, 0]"
       ]
      }, 
      {
       "output_type": "stream", 
       "stream": "stdout", 
       "text": [
        "", 
        "[0, 0]", 
        "[0, 0]", 
        "[0, 0]", 
        "[0, 0]", 
        "[0, 0]", 
        "[3, 20]", 
        "[3, 20]", 
        "[15, 84]", 
        "[15, 84]", 
        "[4, 21]", 
        "[4, 21]", 
        "[2, 12]", 
        "[2, 12]"
       ]
      }, 
      {
       "output_type": "stream", 
       "stream": "stdout", 
       "text": [
        "", 
        "[0, 0]", 
        "[0, 0]", 
        "[0, 0]", 
        "[0, 0]", 
        "[5, 23]", 
        "[5, 23]", 
        "[11, 97]", 
        "[11, 97]", 
        "[0, 0]", 
        "[0, 0]", 
        "[0, 0]"
       ]
      }, 
      {
       "output_type": "stream", 
       "stream": "stdout", 
       "text": [
        "", 
        "[0, 0]", 
        "[0, 0]", 
        "[0, 0]", 
        "[0, 0]", 
        "[0, 0]", 
        "[0, 0]", 
        "[0, 0]", 
        "[1, 12]", 
        "[2, 12]", 
        "[0, 0]", 
        "[0, 0]", 
        "[0, 0]", 
        "[0, 0]", 
        "[0, 0]", 
        "[0, 0]", 
        "[5, 28]", 
        "[5, 28]", 
        "[2, 27]", 
        "[2, 27]", 
        "[2, 12]", 
        "[2, 12]", 
        "[35, 195]", 
        "[35, 195]"
       ]
      }, 
      {
       "output_type": "stream", 
       "stream": "stdout", 
       "text": [
        "", 
        "[0, 0]", 
        "[0, 0]", 
        "[0, 0]", 
        "[0, 0]", 
        "[0, 0]", 
        "[0, 0]", 
        "[8, 45]", 
        "[8, 45]", 
        "[0, 0]", 
        "[0, 0]", 
        "[5, 30]", 
        "[5, 30]", 
        "[2, 10]", 
        "[2, 10]", 
        "[0, 0]", 
        "[0, 0]", 
        "[4, 26]", 
        "[4, 26]", 
        "[0, 0]", 
        "[0, 0]", 
        "[0, 0]", 
        "[0, 0]", 
        "[0, 0]", 
        "[0, 0]", 
        "[7, 49]"
       ]
      }, 
      {
       "output_type": "stream", 
       "stream": "stdout", 
       "text": [
        "", 
        "[7, 49]", 
        "[21, 148]", 
        "[21, 148]", 
        "[0, 0]", 
        "[0, 0]", 
        "[1, 9]", 
        "[1, 9]", 
        "[0, 0]", 
        "[0, 0]", 
        "[0, 0]", 
        "[0, 0]", 
        "[2, 18]", 
        "[2, 18]", 
        "[0, 0]", 
        "[0, 0]", 
        "[0, 0]", 
        "[0, 0]", 
        "[6, 52]", 
        "[6, 52]", 
        "[0, 0]", 
        "[0, 0]", 
        "[5, 42]", 
        "[5, 42]", 
        "[10, 51]", 
        "[10, 51]"
       ]
      }, 
      {
       "output_type": "stream", 
       "stream": "stdout", 
       "text": [
        "", 
        "[17, 89]", 
        "[17, 89]", 
        "[0, 0]", 
        "[0, 0]", 
        "[1, 5]", 
        "[1, 5]", 
        "[1, 16]", 
        "[1, 16]", 
        "[3, 19]", 
        "[3, 19]", 
        "[0, 0]", 
        "[0, 0]", 
        "[14, 104]", 
        "[14, 104]", 
        "[0, 0]", 
        "[0, 0]", 
        "[0, 0]", 
        "[0, 0]", 
        "[1, 5]", 
        "[1, 5]", 
        "[1, 6]", 
        "[1, 6]", 
        "[4, 24]", 
        "[4, 24]", 
        "[0, 0]"
       ]
      }, 
      {
       "output_type": "stream", 
       "stream": "stdout", 
       "text": [
        "", 
        "[0, 0]", 
        "[0, 0]", 
        "[0, 0]", 
        "[0, 0]", 
        "[0, 0]", 
        "[0, 0]", 
        "[0, 0]", 
        "[0, 17]", 
        "[4, 17]", 
        "[0, 33]", 
        "[12, 33]", 
        "[1, 42]", 
        "[23, 42]", 
        "[0, 6]", 
        "[3, 6]", 
        "[1, 5]", 
        "[3, 5]"
       ]
      }, 
      {
       "output_type": "stream", 
       "stream": "stdout", 
       "text": [
        "", 
        "[0, 12]", 
        "[7, 12]", 
        "[0, 0]", 
        "[0, 0]", 
        "[0, 0]", 
        "[0, 0]", 
        "[1, 9]", 
        "[2, 9]", 
        "[1, 9]", 
        "[2, 9]", 
        "[0, 0]", 
        "[0, 0]", 
        "[0, 0]", 
        "[0, 0]", 
        "[0, 0]", 
        "[0, 0]", 
        "[0, 0]", 
        "[0, 0]", 
        "[0, 0]", 
        "[0, 0]", 
        "[0, 0]", 
        "[0, 0]", 
        "[0, 0]", 
        "[0, 0]", 
        "[0, 0]"
       ]
      }, 
      {
       "output_type": "stream", 
       "stream": "stdout", 
       "text": [
        "", 
        "[0, 0]", 
        "[0, 0]", 
        "[0, 0]", 
        "[0, 0]", 
        "[0, 0]", 
        "[0, 0]", 
        "[0, 0]", 
        "[1, 3]", 
        "[1, 3]", 
        "[0, 0]", 
        "[0, 0]", 
        "[0, 0]", 
        "[0, 0]", 
        "[0, 0]", 
        "[0, 0]", 
        "[0, 0]", 
        "[0, 0]", 
        "[1, 2]", 
        "[1, 2]", 
        "[0, 0]", 
        "[0, 0]", 
        "[0, 0]", 
        "[0, 0]", 
        "[0, 0]", 
        "[0, 0]", 
        "[0, 0]"
       ]
      }, 
      {
       "output_type": "stream", 
       "stream": "stdout", 
       "text": [
        "", 
        "[0, 0]", 
        "[0, 0]", 
        "[0, 0]", 
        "[0, 0]", 
        "[0, 0]", 
        "[0, 0]", 
        "[0, 0]", 
        "[0, 0]", 
        "[0, 0]", 
        "[0, 0]", 
        "[0, 0]", 
        "[0, 0]", 
        "[0, 0]", 
        "[0, 0]", 
        "[0, 0]", 
        "[2, 15]", 
        "[2, 15]", 
        "[0, 0]", 
        "[0, 0]", 
        "[0, 0]", 
        "[0, 0]", 
        "[0, 0]", 
        "[0, 0]", 
        "[1, 6]", 
        "[1, 6]", 
        "[0, 0]"
       ]
      }, 
      {
       "output_type": "stream", 
       "stream": "stdout", 
       "text": [
        "", 
        "[0, 0]", 
        "[1, 7]", 
        "[1, 7]", 
        "[0, 0]", 
        "[0, 0]", 
        "[0, 0]", 
        "[0, 0]", 
        "[0, 0]", 
        "[0, 0]", 
        "[2, 16]", 
        "[2, 16]", 
        "[0, 0]", 
        "[0, 0]", 
        "[4, 25]", 
        "[4, 25]", 
        "[0, 0]", 
        "[0, 0]", 
        "[0, 0]", 
        "[0, 0]", 
        "[0, 0]", 
        "[0, 0]", 
        "[0, 0]", 
        "[0, 0]", 
        "[3, 26]", 
        "[3, 26]", 
        "[7, 40]"
       ]
      }, 
      {
       "output_type": "stream", 
       "stream": "stdout", 
       "text": [
        "", 
        "[7, 40]", 
        "[4, 20]", 
        "[4, 20]", 
        "[0, 0]", 
        "[0, 0]", 
        "[0, 0]", 
        "[0, 0]", 
        "[0, 0]", 
        "[0, 0]", 
        "[0, 0]", 
        "[0, 0]", 
        "[0, 0]", 
        "[0, 0]", 
        "[2, 24]", 
        "[5, 24]", 
        "[0, 0]", 
        "[0, 0]", 
        "[1, 3]", 
        "[1, 3]", 
        "[0, 0]", 
        "[0, 0]", 
        "[6, 41]", 
        "[11, 41]", 
        "[0, 0]"
       ]
      }, 
      {
       "output_type": "stream", 
       "stream": "stdout", 
       "text": [
        "", 
        "[0, 0]", 
        "[0, 0]", 
        "[0, 0]", 
        "[0, 0]", 
        "[0, 0]", 
        "[0, 0]", 
        "[0, 0]", 
        "[2, 6]", 
        "[2, 6]", 
        "[1, 6]", 
        "[1, 6]", 
        "[0, 0]", 
        "[0, 0]", 
        "[0, 0]", 
        "[0, 0]", 
        "[8, 50]", 
        "[8, 50]", 
        "[0, 0]", 
        "[0, 0]", 
        "[0, 0]", 
        "[0, 0]", 
        "[2, 17]", 
        "[2, 17]", 
        "[5, 42]", 
        "[5, 42]", 
        "[3, 43]", 
        "[3, 43]", 
        "[4, 32]", 
        "[4, 32]"
       ]
      }, 
      {
       "output_type": "stream", 
       "stream": "stdout", 
       "text": [
        "", 
        "[1, 11]", 
        "[1, 11]", 
        "[2, 12]", 
        "[2, 12]", 
        "[2, 25]", 
        "[3, 25]", 
        "[2, 38]", 
        "[5, 38]", 
        "[1, 7]", 
        "[1, 7]", 
        "[1, 7]", 
        "[1, 7]", 
        "[1, 7]", 
        "[1, 7]", 
        "[3, 26]", 
        "[3, 26]", 
        "[1, 10]", 
        "[2, 10]", 
        "[3, 18]", 
        "[3, 18]", 
        "[6, 38]", 
        "[6, 38]", 
        "[1, 3]", 
        "[1, 3]", 
        "[1, 2]", 
        "[1, 2]", 
        "[3, 28]"
       ]
      }, 
      {
       "output_type": "stream", 
       "stream": "stdout", 
       "text": [
        "", 
        "[3, 28]", 
        "[0, 0]", 
        "[0, 0]", 
        "[1, 9]", 
        "[1, 9]", 
        "[1, 5]", 
        "[1, 5]", 
        "[2, 19]", 
        "[2, 19]", 
        "[1, 7]", 
        "[1, 7]", 
        "[1, 5]", 
        "[1, 5]", 
        "[1, 5]", 
        "[1, 5]", 
        "[1, 5]", 
        "[1, 5]", 
        "[1, 6]", 
        "[1, 6]", 
        "[0, 2]", 
        "[1, 2]"
       ]
      }
     ], 
     "prompt_number": 12
    }, 
    {
     "cell_type": "code", 
     "collapsed": true, 
     "input": [
      "from compute_field_summaries import *"
     ], 
     "language": "python", 
     "outputs": [], 
     "prompt_number": 5
    }, 
    {
     "cell_type": "code", 
     "collapsed": false, 
     "input": [
      "getAllArticleNedmMetadataSummary()"
     ], 
     "language": "python", 
     "outputs": [
      {
       "output_type": "stream", 
       "stream": "stderr", 
       "text": [
        "/usr/lib/python2.7/dist-packages/numpy/core/fromnumeric.py:37: RuntimeWarning: invalid value encountered in double_scalars", 
        "  result = getattr(asarray(obj),method)(*args, **kwds)", 
        ""
       ]
      }, 
      {
       "output_type": "pyout", 
       "prompt_number": 6, 
       "text": [
        "[<Article: Localization and function of the Kv3.1b subunit in the rat medulla oblongata: focus on the nucleus tractus solitarii.>, <Article: HCN1 channels control resting and active integrative properties of stellate cells from layer II of the entorhinal cortex.>, <Article: Molecular and functional differences in voltage-activated sodium currents between GABA projection neurons and dopamine neurons in the substantia nigra.>, <Article: Hyperexcitability of distal dendrites in hippocampal pyramidal cells after chronic partial deafferentation.>, <Article: The magnitudes of hyperpolarization-activated and low-voltage-activated potassium currents co-vary in neurons of the ventral cochlear nucleus.>, <Article: Specificity in the interaction of HVA Ca2+ channel types with Ca2+-dependent AHPs and firing behavior in neocortical pyramidal neurons.>, <Article: Medium afterhyperpolarization and firing pattern modulation in interneurons of stratum radiatum in the CA3 hippocampal region.>, <Article: Resilient RTN fast spiking in Kv3.1 null mice suggests redundancy in the action potential repolarization mechanism.>, <Article: The leaner P/Q-type calcium channel mutation renders cerebellar Purkinje neurons hyper-excitable and eliminates Ca2+-Na+ spike bursts.>, <Article: Ionic mechanism of electroresponsiveness in cerebellar granule cells implicates the action of a persistent sodium current.>, <Article: Serotonergic modulation of the hyperpolarizing spike afterpotential in rat jaw-closing motoneurons by PKA and PKC.>, <Article: A spontaneous mutation involving Kcnq2 (Kv7.2) reduces M-current density and spike frequency adaptation in mouse CA1 neurons.>, <Article: Persistent Nav1.6 current at axon initial segments tunes spike timing of cerebellar granule cells.>, <Article: KCNQ/M channels control spike afterdepolarization and burst generation in hippocampal neurons.>, <Article: Retrograde viral vector-mediated inhibition of pontospinal noradrenergic neurons causes hyperalgesia in rats.>, <Article: Anatomical, physiological and molecular properties of Martinotti cells in the somatosensory cortex of the juvenile rat.>, <Article: A cold- and menthol-activated current in rat dorsal root ganglion neurones: properties and role in cold transduction.>, <Article: Alterations in intrinsic membrane properties and the axon initial segment in a mouse model of Angelman syndrome.>, <Article: Aminopyridines correct early dysfunction and delay neurodegeneration in a mouse model of spinocerebellar ataxia type 1.>, <Article: Opioids inhibit lateral amygdala pyramidal neurons by enhancing a dendritic potassium current.>, '...(remaining elements truncated)...']"
       ]
      }
     ], 
     "prompt_number": 6
    }
   ]
  }
 ]
}